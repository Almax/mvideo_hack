{
 "cells": [
  {
   "cell_type": "code",
   "execution_count": 5,
   "metadata": {
    "collapsed": true
   },
   "outputs": [],
   "source": [
    "import pickle\n",
    "import pandas as pd"
   ]
  },
  {
   "cell_type": "code",
   "execution_count": 18,
   "metadata": {
    "collapsed": true
   },
   "outputs": [],
   "source": [
    "data_set2 = pd.read_csv('dataset2_v2.csv', sep=',', index_col=0)"
   ]
  },
  {
   "cell_type": "code",
   "execution_count": 19,
   "metadata": {
    "collapsed": true
   },
   "outputs": [],
   "source": [
    "alg_data_dict = pickle.load(open('alg_data_dict.pkl', 'r'))"
   ]
  },
  {
   "cell_type": "code",
   "execution_count": 33,
   "metadata": {},
   "outputs": [
    {
     "data": {
      "text/plain": [
       "['TV', 'IRONS', 'NOTEBOOK', 'WASHING MACHINE', 'PHONE']"
      ]
     },
     "execution_count": 33,
     "metadata": {},
     "output_type": "execute_result"
    }
   ],
   "source": [
    "alg_data_dict.keys()"
   ]
  },
  {
   "cell_type": "code",
   "execution_count": 20,
   "metadata": {
    "collapsed": true
   },
   "outputs": [],
   "source": [
    "def product_top_features_prediction(product_id, alg_data):\n",
    "    feature_importance, binary_feature_data_sparse, bin_map, columns_cart_no_user = alg_data\n",
    "    mask = binary_feature_data_sparse[bin_map[bin_map.PRODUCT==product_id].index[0]].toarray().squeeze()\n",
    "    sorted_columns = [col for i, col in enumerate(columns_cart_no_user) if\\\n",
    "                          (col in feature_importance['NAME=VALUE'].values) & (mask[i] > 0)]\n",
    "    return sorted_columns[:5]"
   ]
  },
  {
   "cell_type": "code",
   "execution_count": 24,
   "metadata": {},
   "outputs": [
    {
     "name": "stdout",
     "output_type": "stream",
     "text": [
      "Габаритные размеры (В*Ш*Г) [code:114]=70.8*110*33.4 см\n",
      "Диагональ экрана [code:231]=49\"(124.5 см)\n",
      "Звук [code:234]=Dolby Digital Plus\n",
      "Место размещения [code:16029]=для гостиной\n",
      "Настенное крепление [code:12540]=доп.опция (VESA 400)\n"
     ]
    }
   ],
   "source": [
    "a = product_top_features_prediction(10012187, alg_data_dict['TV'])\n",
    "for i in a:\n",
    "    print i"
   ]
  },
  {
   "cell_type": "code",
   "execution_count": 25,
   "metadata": {},
   "outputs": [
    {
     "name": "stdout",
     "output_type": "stream",
     "text": [
      "Габаритные размеры (В*Ш*Г) [code:114]=75.3*123*21 см\n",
      "Диагональ экрана [code:231]=55\"(139.6 см)\n",
      "Звук [code:234]=S-Force Front Surround\n",
      "Место размещения [code:16029]=для гостиной\n",
      "Модель 3D очков [code:13203]=TDG-BT500A\n"
     ]
    }
   ],
   "source": [
    "a = product_top_features_prediction(10008191, alg_data_dict['TV'])\n",
    "for i in a:\n",
    "    print i"
   ]
  },
  {
   "cell_type": "code",
   "execution_count": 27,
   "metadata": {},
   "outputs": [
    {
     "data": {
      "text/html": [
       "<div>\n",
       "<table border=\"1\" class=\"dataframe\">\n",
       "  <thead>\n",
       "    <tr style=\"text-align: right;\">\n",
       "      <th></th>\n",
       "      <th>PRODUCT</th>\n",
       "      <th>CATEGORY_NAME</th>\n",
       "    </tr>\n",
       "  </thead>\n",
       "  <tbody>\n",
       "    <tr>\n",
       "      <th>182815</th>\n",
       "      <td>30013148</td>\n",
       "      <td>NOTEBOOK</td>\n",
       "    </tr>\n",
       "    <tr>\n",
       "      <th>29884</th>\n",
       "      <td>10004546</td>\n",
       "      <td>LED TV 43\\\"-50\\\"</td>\n",
       "    </tr>\n",
       "    <tr>\n",
       "      <th>130018</th>\n",
       "      <td>20030461</td>\n",
       "      <td>WASHING MACHINES</td>\n",
       "    </tr>\n",
       "    <tr>\n",
       "      <th>198887</th>\n",
       "      <td>30014260</td>\n",
       "      <td>NOTEBOOK</td>\n",
       "    </tr>\n",
       "    <tr>\n",
       "      <th>468747</th>\n",
       "      <td>30027148</td>\n",
       "      <td>SMARTPHONES</td>\n",
       "    </tr>\n",
       "    <tr>\n",
       "      <th>384822</th>\n",
       "      <td>30024784</td>\n",
       "      <td>SMARTPHONES</td>\n",
       "    </tr>\n",
       "    <tr>\n",
       "      <th>388183</th>\n",
       "      <td>30025109</td>\n",
       "      <td>SAMSUNG SMARTPHONES</td>\n",
       "    </tr>\n",
       "    <tr>\n",
       "      <th>44836</th>\n",
       "      <td>10006480</td>\n",
       "      <td>LED TV 51\\\"-55\\\"</td>\n",
       "    </tr>\n",
       "    <tr>\n",
       "      <th>484671</th>\n",
       "      <td>30028959</td>\n",
       "      <td>NOTEBOOK APPLE</td>\n",
       "    </tr>\n",
       "    <tr>\n",
       "      <th>462140</th>\n",
       "      <td>30029436</td>\n",
       "      <td>SMARTPHONES</td>\n",
       "    </tr>\n",
       "  </tbody>\n",
       "</table>\n",
       "</div>"
      ],
      "text/plain": [
       "         PRODUCT         CATEGORY_NAME\n",
       "182815  30013148  NOTEBOOK            \n",
       "29884   10004546  LED TV 43\\\"-50\\\"    \n",
       "130018  20030461  WASHING MACHINES    \n",
       "198887  30014260  NOTEBOOK            \n",
       "468747  30027148  SMARTPHONES         \n",
       "384822  30024784  SMARTPHONES         \n",
       "388183  30025109  SAMSUNG SMARTPHONES \n",
       "44836   10006480  LED TV 51\\\"-55\\\"    \n",
       "484671  30028959  NOTEBOOK APPLE      \n",
       "462140  30029436  SMARTPHONES         "
      ]
     },
     "execution_count": 27,
     "metadata": {},
     "output_type": "execute_result"
    }
   ],
   "source": [
    "data_set2[['PRODUCT','CATEGORY_NAME']].sample(10)"
   ]
  },
  {
   "cell_type": "code",
   "execution_count": 38,
   "metadata": {},
   "outputs": [
    {
     "name": "stdout",
     "output_type": "stream",
     "text": [
      "Габаритные размеры (В*Ш*Г) [code:114]=84*59.5*45 см\n",
      "Глубина [code:2]=45\n",
      "Мотор [code:15042]=стандартный\n",
      "Расход воды за цикл [code:319]=48\n",
      "Уровень шума при стирке [code:2018]=59\n"
     ]
    }
   ],
   "source": [
    "a = product_top_features_prediction(20030461, alg_data_dict['WASHING MACHINE'])\n",
    "for i in a:\n",
    "    print i"
   ]
  },
  {
   "cell_type": "code",
   "execution_count": 28,
   "metadata": {},
   "outputs": [
    {
     "name": "stdout",
     "output_type": "stream",
     "text": [
      "Вес [code:22]=2.76\n",
      "Время зарядки аккумулятора [code:362]=до 2 ч 30 мин\n",
      "Глубина [code:2]=257\n",
      "Разрешение матрицы [code:500]=2 МПикс\n",
      "Серия [code:296]=U Bamboo\n"
     ]
    }
   ],
   "source": [
    "a = product_top_features_prediction(30013148, alg_data_dict['NOTEBOOK'])\n",
    "for i in a:\n",
    "    print i"
   ]
  },
  {
   "cell_type": "code",
   "execution_count": 31,
   "metadata": {},
   "outputs": [
    {
     "name": "stdout",
     "output_type": "stream",
     "text": [
      "Вес [code:22]=1.37\n",
      "Глубина [code:2]=212\n",
      "Диагональ/разрешение [code:14131]=13.3\"/2560x1600 пикс.\n",
      "Разрешение матрицы [code:500]=1 МПикс\n",
      "Серия [code:296]=MacBook Pro Touch Bar\n"
     ]
    }
   ],
   "source": [
    "a = product_top_features_prediction(30028959, alg_data_dict['NOTEBOOK'])\n",
    "for i in a:\n",
    "    print i"
   ]
  },
  {
   "cell_type": "code",
   "execution_count": 34,
   "metadata": {},
   "outputs": [
    {
     "name": "stdout",
     "output_type": "stream",
     "text": [
      "Время в режиме ожидания [code:633]=до 410 часов\n",
      "Глубина [code:2]=8\n",
      "Модель [code:2537]=SM-J710FN/DS\n",
      "Поддержка технологии aptX [code:14804]=Да\n",
      "Разрешение фронтальной камеры [code:10423]=5 Мпикс\n"
     ]
    }
   ],
   "source": [
    "a = product_top_features_prediction(30025109, alg_data_dict['PHONE'])\n",
    "for i in a:\n",
    "    print i"
   ]
  },
  {
   "cell_type": "code",
   "execution_count": 35,
   "metadata": {},
   "outputs": [
    {
     "name": "stdout",
     "output_type": "stream",
     "text": [
      "Время в режиме ожидания [code:633]=до 200 часов\n",
      "Глубина [code:2]=10\n",
      "Модель [code:2537]=C5L\n",
      "Обратите внимание [code:15219]=Элегантный и удобный дизайн\n",
      "Разрешение фронтальной камеры [code:10423]=2 Мпикс\n"
     ]
    }
   ],
   "source": [
    "a = product_top_features_prediction(30029436, alg_data_dict['PHONE'])\n",
    "for i in a:\n",
    "    print i"
   ]
  },
  {
   "cell_type": "code",
   "execution_count": 36,
   "metadata": {},
   "outputs": [
    {
     "name": "stdout",
     "output_type": "stream",
     "text": [
      "Время в режиме ожидания [code:633]=до 450 часов\n",
      "Глубина [code:2]=14\n",
      "Модель [code:2537]=RG730\n",
      "Обратите внимание [code:15219]=Защищенный корпус IP68\n",
      "Разрешение фронтальной камеры [code:10423]=5 Мпикс\n"
     ]
    }
   ],
   "source": [
    "a = product_top_features_prediction(30027148, alg_data_dict['PHONE'])\n",
    "for i in a:\n",
    "    print i"
   ]
  },
  {
   "cell_type": "code",
   "execution_count": 37,
   "metadata": {},
   "outputs": [
    {
     "name": "stdout",
     "output_type": "stream",
     "text": [
      "Время в режиме ожидания [code:633]=до 550 часов\n",
      "Глубина [code:2]=9\n",
      "Модель [code:2537]=PSP5506 DUO\n",
      "Разрешение фронтальной камеры [code:10423]=2 Мпикс\n",
      "Тип процессора [code:770]=SC7731\n"
     ]
    }
   ],
   "source": [
    "a = product_top_features_prediction(30024784, alg_data_dict['PHONE'])\n",
    "for i in a:\n",
    "    print i"
   ]
  },
  {
   "cell_type": "code",
   "execution_count": null,
   "metadata": {
    "collapsed": true
   },
   "outputs": [],
   "source": []
  }
 ],
 "metadata": {
  "kernelspec": {
   "display_name": "Python 2",
   "language": "python",
   "name": "python2"
  },
  "language_info": {
   "codemirror_mode": {
    "name": "ipython",
    "version": 2
   },
   "file_extension": ".py",
   "mimetype": "text/x-python",
   "name": "python",
   "nbconvert_exporter": "python",
   "pygments_lexer": "ipython2",
   "version": "2.7.11"
  }
 },
 "nbformat": 4,
 "nbformat_minor": 2
}
