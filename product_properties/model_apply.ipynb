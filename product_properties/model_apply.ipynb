{
 "cells": [
  {
   "cell_type": "code",
   "execution_count": 5,
   "metadata": {
    "collapsed": true
   },
   "outputs": [],
   "source": [
    "import pickle\n",
    "import pandas as pd"
   ]
  },
  {
   "cell_type": "code",
   "execution_count": 48,
   "metadata": {},
   "outputs": [],
   "source": [
    "data_set2 = pd.read_csv('dataset2_v2.csv', sep=',', index_col=0)\n",
    "category_dict = pd.read_csv('category_dict.csv')\n",
    "\n",
    "data_set2.insert(1, 'PRODUCT_NAME', data_set2.NAME_x)\n",
    "del data_set2['NAME_x']\n",
    "data_set2.insert(9, 'NAME', data_set2.NAME_y)\n",
    "del data_set2['NAME_y']\n",
    "data_set2 = pd.merge(data_set2, category_dict, how='left')\n",
    "data_set2.insert(0, 'NAME_WITH_CODE', data_set2.NAME + data_set2.CODE.apply(lambda x: ' [code:' + str(x) + ']'))\n",
    "data_set2.insert(0, 'NAME_WITH_CODE_WITH_VALUE', data_set2.NAME_WITH_CODE + data_set2.VALUE.apply(lambda x: '=' + str(x)))"
   ]
  },
  {
   "cell_type": "code",
   "execution_count": 131,
   "metadata": {
    "collapsed": true
   },
   "outputs": [],
   "source": [
    "alg_data_dict = pickle.load(open('alg_data_dict_2.pkl', 'r'))\n",
    "cat_alg_data_dict = pickle.load(open('cat_alg_data_dict_2.pkl', 'r'))"
   ]
  },
  {
   "cell_type": "code",
   "execution_count": null,
   "metadata": {
    "collapsed": true
   },
   "outputs": [],
   "source": []
  },
  {
   "cell_type": "code",
   "execution_count": 132,
   "metadata": {},
   "outputs": [
    {
     "name": "stdout",
     "output_type": "stream",
     "text": [
      "['TV', 'IRONS', 'PHONE', 'NOTEBOOK', 'WASHING MACHINE']\n",
      "['LED TV 43\\\\\"-50\\\\\"    ', 'IRONS               ', 'APPLE IPHONE        ', 'OLED-TV 51\\\\\"-55\\\\\"   ', 'SAMSUNG SMARTPHONES ', 'SMARTPHONES         ', 'LED TV 32\\\\\"-38\\\\\"    ', 'WASHING MACHINES    ', 'LED TV 39\\\\\"-42\\\\\"    ', 'LED TV 15\\\\\"-30\\\\\"    ', 'OLED-TV 56\\\\\"-65\\\\\"   ', 'LED TV 66\\\\\"+        ', 'NOTEBOOK APPLE      ', 'LED TV 51\\\\\"-55\\\\\"    ', 'MINIWASHING MACHINES', 'LED TV 56\\\\\"-65\\\\\"    ', 'NOTEBOOK            ']\n"
     ]
    }
   ],
   "source": [
    "print alg_data_dict.keys()\n",
    "print cat_alg_data_dict.keys()"
   ]
  },
  {
   "cell_type": "code",
   "execution_count": null,
   "metadata": {
    "collapsed": true
   },
   "outputs": [],
   "source": []
  },
  {
   "cell_type": "code",
   "execution_count": 134,
   "metadata": {},
   "outputs": [],
   "source": [
    "def top_k_features(product_id, alg_data_dict, cat_alg_data_dict, k=5):\n",
    "    product_name = data_set2[data_set2.PRODUCT==product_id]['PRODUCT_NAME'].values[0]\n",
    "    cat_name = data_set2[data_set2.PRODUCT==product_id]['CATEGORY_NAME'].values[0]\n",
    "    par_cat_name = data_set2[data_set2.PRODUCT==product_id]['PARENT_CATEGORY_NAME'].values[0]\n",
    "    print u'ID товара:', product_id\n",
    "    print u'Товар:', product_name\n",
    "    print u'Категория:', cat_name\n",
    "    print u'Надкатегория:', par_cat_name\n",
    "    par_cat_data = pd.merge(data_set2[data_set2.PRODUCT==product_id], alg_data_dict[par_cat_name], how='inner',\\\n",
    "                     left_on='NAME_WITH_CODE_WITH_VALUE', right_on='NAME=VALUE').\\\n",
    "                sort_values(by='feature_value_weight', ascending=False)\\\n",
    "                [['GROUP_NAME', 'NAME_x', 'VALUE', 'MEASURE', 'feature_value_weight']].drop_duplicates()\n",
    "    par_cat_data.columns = ['GROUP_NAME', 'NAME_x', 'VALUE', 'MEASURE', 'feature_value_weight']\n",
    "    try:\n",
    "        cat_data = pd.merge(data_set2[data_set2.PRODUCT==product_id], cat_alg_data_dict[cat_name], how='inner',\\\n",
    "                         left_on='NAME_WITH_CODE_WITH_VALUE', right_on='NAME=VALUE').\\\n",
    "                    sort_values(by='feature_value_weight', ascending=False)\\\n",
    "                    [['GROUP_NAME', 'NAME_x', 'VALUE', 'MEASURE', 'feature_value_weight']].drop_duplicates()\n",
    "        par_cat_data.insert(4, 'log_rank', 2 ** (1 - par_cat_data['feature_value_weight'].rank(ascending=False)))\n",
    "        cat_data.insert(4, 'log_rank', 2 ** (1 - cat_data['feature_value_weight'].rank(ascending=False)))\n",
    "        total_data = pd.merge(par_cat_data, cat_data, how='outer',\\\n",
    "                              on=['GROUP_NAME', 'NAME_x', 'VALUE', 'MEASURE']).fillna(0)\n",
    "        total_data.insert(0, 'total_rank', total_data.log_rank_x + total_data.log_rank_y)\n",
    "        total_data.sort_values(by='total_rank', ascending=False, inplace=True)\n",
    "        return total_data.head(5)[['GROUP_NAME', 'NAME_x', 'VALUE', 'MEASURE']]\n",
    "    except:\n",
    "        return par_cat_data.head(5)[['GROUP_NAME', 'NAME_x', 'VALUE', 'MEASURE']]\n",
    "    \n",
    "        "
   ]
  },
  {
   "cell_type": "code",
   "execution_count": 138,
   "metadata": {},
   "outputs": [
    {
     "name": "stdout",
     "output_type": "stream",
     "text": [
      "ID товара: 20023532\n",
      "Товар: Утюг Scarlett SC-334S                                                                                        \n",
      "Категория: IRONS               \n",
      "Надкатегория: IRONS\n"
     ]
    },
    {
     "data": {
      "text/html": [
       "<div>\n",
       "<table border=\"1\" class=\"dataframe\">\n",
       "  <thead>\n",
       "    <tr style=\"text-align: right;\">\n",
       "      <th></th>\n",
       "      <th>GROUP_NAME</th>\n",
       "      <th>NAME_x</th>\n",
       "      <th>VALUE</th>\n",
       "      <th>MEASURE</th>\n",
       "    </tr>\n",
       "  </thead>\n",
       "  <tbody>\n",
       "    <tr>\n",
       "      <th>3</th>\n",
       "      <td>Цвет и вес</td>\n",
       "      <td>Вес</td>\n",
       "      <td>1</td>\n",
       "      <td>кг</td>\n",
       "    </tr>\n",
       "    <tr>\n",
       "      <th>0</th>\n",
       "      <td>Защита от накипи</td>\n",
       "      <td>Самоочистка от накипи</td>\n",
       "      <td>Да</td>\n",
       "      <td>0</td>\n",
       "    </tr>\n",
       "    <tr>\n",
       "      <th>1</th>\n",
       "      <td>Серия модели</td>\n",
       "      <td>Серия</td>\n",
       "      <td>Ted</td>\n",
       "      <td>0</td>\n",
       "    </tr>\n",
       "    <tr>\n",
       "      <th>5</th>\n",
       "      <td>Система увлажнения</td>\n",
       "      <td>Паровой удар</td>\n",
       "      <td>120</td>\n",
       "      <td>г</td>\n",
       "    </tr>\n",
       "    <tr>\n",
       "      <th>2</th>\n",
       "      <td>0</td>\n",
       "      <td>Гарантия</td>\n",
       "      <td>1 год</td>\n",
       "      <td>0</td>\n",
       "    </tr>\n",
       "  </tbody>\n",
       "</table>\n",
       "</div>"
      ],
      "text/plain": [
       "           GROUP_NAME                 NAME_x  VALUE MEASURE\n",
       "3          Цвет и вес                    Вес      1      кг\n",
       "0    Защита от накипи  Самоочистка от накипи     Да       0\n",
       "1        Серия модели                  Серия    Ted       0\n",
       "5  Система увлажнения           Паровой удар    120       г\n",
       "2                   0               Гарантия  1 год       0"
      ]
     },
     "execution_count": 138,
     "metadata": {},
     "output_type": "execute_result"
    }
   ],
   "source": [
    "a = top_k_features(20023532, alg_data_dict, cat_alg_data_dict)\n",
    "a"
   ]
  },
  {
   "cell_type": "code",
   "execution_count": 139,
   "metadata": {},
   "outputs": [
    {
     "name": "stdout",
     "output_type": "stream",
     "text": [
      "ID товара: 10008191\n",
      "Товар: Телевизор Sony KDL55W808C                                                                                    \n",
      "Категория: LED TV 51\\\"-55\\\"    \n",
      "Надкатегория: TV\n"
     ]
    },
    {
     "data": {
      "text/html": [
       "<div>\n",
       "<table border=\"1\" class=\"dataframe\">\n",
       "  <thead>\n",
       "    <tr style=\"text-align: right;\">\n",
       "      <th></th>\n",
       "      <th>GROUP_NAME</th>\n",
       "      <th>NAME_x</th>\n",
       "      <th>VALUE</th>\n",
       "      <th>MEASURE</th>\n",
       "    </tr>\n",
       "  </thead>\n",
       "  <tbody>\n",
       "    <tr>\n",
       "      <th>0</th>\n",
       "      <td>Подключение к сети LAN/Internet</td>\n",
       "      <td>Поддержка Wi-Fi</td>\n",
       "      <td>через встроенный модуль</td>\n",
       "      <td>0</td>\n",
       "    </tr>\n",
       "    <tr>\n",
       "      <th>9</th>\n",
       "      <td>Цвет, размеры и вес</td>\n",
       "      <td>Вес</td>\n",
       "      <td>18</td>\n",
       "      <td>кг</td>\n",
       "    </tr>\n",
       "    <tr>\n",
       "      <th>3</th>\n",
       "      <td>Системы обработки изображения</td>\n",
       "      <td>Технология</td>\n",
       "      <td>1000 Гц</td>\n",
       "      <td>0</td>\n",
       "    </tr>\n",
       "    <tr>\n",
       "      <th>1</th>\n",
       "      <td>Дистанционное управление</td>\n",
       "      <td>Тип дистанционного управления</td>\n",
       "      <td>ИК</td>\n",
       "      <td>0</td>\n",
       "    </tr>\n",
       "    <tr>\n",
       "      <th>4</th>\n",
       "      <td>0</td>\n",
       "      <td>Ширина</td>\n",
       "      <td>123</td>\n",
       "      <td>см</td>\n",
       "    </tr>\n",
       "  </tbody>\n",
       "</table>\n",
       "</div>"
      ],
      "text/plain": [
       "                        GROUP_NAME                         NAME_x  \\\n",
       "0  Подключение к сети LAN/Internet                Поддержка Wi-Fi   \n",
       "9              Цвет, размеры и вес                            Вес   \n",
       "3    Системы обработки изображения                     Технология   \n",
       "1         Дистанционное управление  Тип дистанционного управления   \n",
       "4                                0                         Ширина   \n",
       "\n",
       "                     VALUE MEASURE  \n",
       "0  через встроенный модуль       0  \n",
       "9                       18      кг  \n",
       "3                  1000 Гц       0  \n",
       "1                       ИК       0  \n",
       "4                      123      см  "
      ]
     },
     "execution_count": 139,
     "metadata": {},
     "output_type": "execute_result"
    }
   ],
   "source": [
    "a = top_k_features(10008191, alg_data_dict, cat_alg_data_dict)\n",
    "a"
   ]
  },
  {
   "cell_type": "code",
   "execution_count": 140,
   "metadata": {},
   "outputs": [
    {
     "data": {
      "text/plain": [
       "array(['LED TV 32\\\\\"-38\\\\\"    ', 'LED TV 39\\\\\"-42\\\\\"    ',\n",
       "       'LED TV 51\\\\\"-55\\\\\"    ', 'LED TV 15\\\\\"-30\\\\\"    ',\n",
       "       'LED TV 43\\\\\"-50\\\\\"    ', 'LED TV 56\\\\\"-65\\\\\"    ',\n",
       "       'LED TV 66\\\\\"+        ', 'OLED-TV 51\\\\\"-55\\\\\"   ',\n",
       "       'OLED-TV 56\\\\\"-65\\\\\"   ', 'WASHING MACHINES    ',\n",
       "       'IRONS               ', 'MINIWASHING MACHINES',\n",
       "       'NOTEBOOK            ', 'SMARTPHONES         ',\n",
       "       'VAIO NOTEBOOKS      ', 'APPLE IPHONE        ',\n",
       "       'NOTEBOOK APPLE      ', 'SAMSUNG SMARTPHONES '], dtype=object)"
      ]
     },
     "execution_count": 140,
     "metadata": {},
     "output_type": "execute_result"
    }
   ],
   "source": [
    "data_set2.CATEGORY_NAME.unique()"
   ]
  },
  {
   "cell_type": "code",
   "execution_count": 142,
   "metadata": {},
   "outputs": [
    {
     "data": {
      "text/plain": [
       "array([30005105, 30005107, 30005150, 30005151, 30005161, 30005162,\n",
       "       30005207, 30005208, 30005209, 30005215])"
      ]
     },
     "execution_count": 142,
     "metadata": {},
     "output_type": "execute_result"
    }
   ],
   "source": [
    "data_set2[data_set2.CATEGORY_NAME=='VAIO NOTEBOOKS      '].PRODUCT.unique()[:10]"
   ]
  },
  {
   "cell_type": "code",
   "execution_count": 145,
   "metadata": {},
   "outputs": [
    {
     "data": {
      "text/plain": [
       "278848    30019363\n",
       "274752    30019003\n",
       "321962    30021225\n",
       "272017    30018859\n",
       "3329      10000473\n",
       "364747    30023641\n",
       "261026    30018097\n",
       "213568    30015125\n",
       "431346    30027141\n",
       "389214    30025166\n",
       "Name: PRODUCT, dtype: int64"
      ]
     },
     "execution_count": 145,
     "metadata": {},
     "output_type": "execute_result"
    }
   ],
   "source": [
    "data_set2.PRODUCT.sample(10)"
   ]
  },
  {
   "cell_type": "code",
   "execution_count": null,
   "metadata": {
    "collapsed": true
   },
   "outputs": [],
   "source": []
  },
  {
   "cell_type": "code",
   "execution_count": 148,
   "metadata": {
    "scrolled": false
   },
   "outputs": [
    {
     "name": "stdout",
     "output_type": "stream",
     "text": [
      "ID товара: 11023825\n",
      "Товар: Телевизор Samsung LE-22 B650 T6W                                                                             \n",
      "Категория: LED TV 15\\\"-30\\\"    \n",
      "Надкатегория: TV\n",
      "   GROUP_NAME             NAME_x                     VALUE MEASURE\n",
      "0           0             Ширина                        54      см\n",
      "6       Экран   Диагональ экрана              22\"(55.8 см)       0\n",
      "1       Экран  Разрешение экрана  1366x768 Пикс (HD Ready)       0\n",
      "7  Интерфейсы          Вход HDMI                         1      шт\n",
      "2  Интерфейсы     Вход RCA аудио                         2       0\n",
      "\n",
      "\n",
      "ID товара: 30016819\n",
      "Товар: Смартфон Apple iPhone 5 32Gb White (MD300RU/A)                                                               \n",
      "Категория: APPLE IPHONE        \n",
      "Надкатегория: PHONE\n",
      "            GROUP_NAME                       NAME_x              VALUE MEASURE\n",
      "0      Стандарты связи             Поддержка 4G LTE                 Да       0\n",
      "6               Модель                       Модель              A1429       0\n",
      "1    Беспроводные сети  Встроенный модуль Bluetooth                4.0       0\n",
      "7  Цвет, размеры и вес                         Цвет      белый/серебр.       0\n",
      "2              Дисплей         Диагональ/разрешение  4\"/1136х640 пикс.       0\n",
      "\n",
      "\n",
      "ID товара: 30027781\n",
      "Товар: Ноутбук игровой MSI GL72 7QF-895RU                                                                           \n",
      "Категория: NOTEBOOK            \n",
      "Надкатегория: NOTEBOOK\n",
      "             GROUP_NAME                  NAME_x                  VALUE MEASURE\n",
      "1          Жесткий диск      Жесткий диск (HDD)                   1 ТБ       0\n",
      "0   Цвет, размеры и вес                    Цвет                 черный       0\n",
      "9               Дисплей    Диагональ/разрешение  17.3\"/1920x1080 пикс.       0\n",
      "2    Оперативная память          Частота памяти                   2400     МГц\n",
      "10           Видеокарта  Графический контроллер    GeForce GTX960M 2GB       0\n",
      "\n",
      "\n",
      "ID товара: 30026894\n",
      "Товар: Ноутбук Acer Aspire ES1-523-294D NX.GKYER.013                                                                \n",
      "Категория: NOTEBOOK            \n",
      "Надкатегория: NOTEBOOK\n",
      "            GROUP_NAME                NAME_x                 VALUE MEASURE\n",
      "0   Оперативная память        Частота памяти                  1600     МГц\n",
      "6              Дисплей  Диагональ/разрешение  15.6\"/1366x768 пикс.       0\n",
      "2         Жесткий диск    Жесткий диск (HDD)                500 ГБ       0\n",
      "1  Цвет, размеры и вес                  Цвет                черный       0\n",
      "7         Серия модели                 Серия     Aspire ES15 (15\")       0\n",
      "\n",
      "\n",
      "ID товара: 10006360\n",
      "Товар: Телевизор Samsung UE55F6500AB                                                                                \n",
      "Категория: LED TV 51\\\"-55\\\"    \n",
      "Надкатегория: TV\n",
      "                        GROUP_NAME                         NAME_x  \\\n",
      "0  Подключение к сети LAN/Internet                Поддержка Wi-Fi   \n",
      "8              Цвет, размеры и вес                            Вес   \n",
      "2    Системы обработки изображения                     Технология   \n",
      "1         Дистанционное управление  Тип дистанционного управления   \n",
      "9                       Интерфейсы             Порт USB 2.0 тип A   \n",
      "\n",
      "                     VALUE MEASURE  \n",
      "0  через встроенный модуль       0  \n",
      "8                       18      кг  \n",
      "2                   400 Гц       0  \n",
      "1                       ИК       0  \n",
      "9                        3      шт  \n",
      "\n",
      "\n",
      "ID товара: 30029216\n",
      "Товар: nan\n",
      "Категория: NOTEBOOK APPLE      \n",
      "Надкатегория: NOTEBOOK\n",
      "            GROUP_NAME                  NAME_x               VALUE MEASURE\n",
      "0   Оперативная память          Частота памяти                2133     МГц\n",
      "6            Процессор          Тип процессора      Core i7 2.8ГГц       0\n",
      "1  Цвет, размеры и вес                    Цвет         серебристый       0\n",
      "7           Видеокарта  Графический контроллер  Radeon Pro 560 4ГБ       0\n",
      "2          Видеокамера      Разрешение матрицы             1 МПикс       0\n",
      "\n",
      "\n",
      "ID товара: 30013359\n",
      "Товар: Ноутбук Packard Bell LS11-HR-520RU Black                                                                     \n",
      "Категория: NOTEBOOK            \n",
      "Надкатегория: NOTEBOOK\n",
      "            GROUP_NAME                      NAME_x          VALUE MEASURE\n",
      "2         Жесткий диск          Жесткий диск (HDD)         500 ГБ       0\n",
      "0  Цвет, размеры и вес                        Цвет         черный       0\n",
      "1   Оперативная память              Частота памяти           1066     МГц\n",
      "8       Электропитание        Емкость аккумулятора           4400     мАч\n",
      "9  Цвет, размеры и вес  Габаритные размеры (В*Ш*Г)  35*415*275 мм       0\n",
      "\n",
      "\n",
      "ID товара: 30012982\n",
      "Товар: Ноутбук Apple MacBook AIR MC503RS/A                                                                          \n",
      "Категория: NOTEBOOK APPLE      \n",
      "Надкатегория: NOTEBOOK\n",
      "            GROUP_NAME              NAME_x        VALUE MEASURE\n",
      "0   Оперативная память      Частота памяти         1066     МГц\n",
      "5            Процессор      Тип процессора     Core2Duo       0\n",
      "1  Цвет, размеры и вес                Цвет  серебристый       0\n",
      "6         Жесткий диск  Жесткий диск (SSD)       128 ГБ       0\n",
      "2          Видеокамера  Разрешение матрицы    0.3 МПикс       0\n",
      "\n",
      "\n",
      "ID товара: 10012397\n",
      "Товар: Телевизор Samsung UE55M5500AU                                                                                \n",
      "Категория: LED TV 51\\\"-55\\\"    \n",
      "Надкатегория: TV\n",
      "                        GROUP_NAME                      NAME_x  \\\n",
      "0  Подключение к сети LAN/Internet             Поддержка Wi-Fi   \n",
      "9              Цвет, размеры и вес                         Вес   \n",
      "5    Системы обработки изображения                  Технология   \n",
      "1              Цвет, размеры и вес  Габаритные размеры (В*Ш*Г)   \n",
      "4                                0                      Ширина   \n",
      "\n",
      "                     VALUE MEASURE  \n",
      "0  через встроенный модуль       0  \n",
      "9                     17.6      кг  \n",
      "5                  800 PQI       0  \n",
      "1       78.6*124.2*29.4 см       0  \n",
      "4                    124.2      см  \n",
      "\n",
      "\n",
      "ID товара: 30024292\n",
      "Товар: Смартфон Samsung Galaxy Grand Prime LTE Gray (SM-G531F)                                                      \n",
      "Категория: SAMSUNG SMARTPHONES \n",
      "Надкатегория: PHONE\n",
      "            GROUP_NAME                         NAME_x    VALUE MEASURE\n",
      "0           Фотокамера  Разрешение фронтальной камеры  5 Мпикс       0\n",
      "7    Встроенная память        Встроенная память (ROM)     8 ГБ       0\n",
      "1      Стандарты связи               Поддержка 4G LTE       Да       0\n",
      "8  Цвет, размеры и вес                           Цвет    серый       0\n",
      "2            Bluetooth    Встроенный модуль Bluetooth      4.0       0\n",
      "\n",
      "\n"
     ]
    }
   ],
   "source": [
    "for product_id in data_set2.PRODUCT.sample(10):\n",
    "    a = top_k_features(product_id, alg_data_dict, cat_alg_data_dict)\n",
    "    print a\n",
    "    print '\\n'"
   ]
  },
  {
   "cell_type": "code",
   "execution_count": null,
   "metadata": {
    "collapsed": true
   },
   "outputs": [],
   "source": []
  },
  {
   "cell_type": "code",
   "execution_count": null,
   "metadata": {
    "collapsed": true
   },
   "outputs": [],
   "source": []
  },
  {
   "cell_type": "code",
   "execution_count": null,
   "metadata": {
    "collapsed": true
   },
   "outputs": [],
   "source": []
  },
  {
   "cell_type": "code",
   "execution_count": null,
   "metadata": {
    "collapsed": true
   },
   "outputs": [],
   "source": []
  }
 ],
 "metadata": {
  "kernelspec": {
   "display_name": "Python 2",
   "language": "python",
   "name": "python2"
  },
  "language_info": {
   "codemirror_mode": {
    "name": "ipython",
    "version": 2
   },
   "file_extension": ".py",
   "mimetype": "text/x-python",
   "name": "python",
   "nbconvert_exporter": "python",
   "pygments_lexer": "ipython2",
   "version": "2.7.11"
  }
 },
 "nbformat": 4,
 "nbformat_minor": 2
}
