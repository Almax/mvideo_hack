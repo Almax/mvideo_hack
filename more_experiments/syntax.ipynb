{
 "cells": [
  {
   "cell_type": "markdown",
   "metadata": {},
   "source": [
    "Здесь я хочу научиться по-умному резать текст на куски)"
   ]
  },
  {
   "cell_type": "code",
   "execution_count": 1,
   "metadata": {
    "collapsed": true
   },
   "outputs": [],
   "source": [
    "import numpy as np\n",
    "import pandas as pd\n",
    "import matplotlib.pyplot as plt\n",
    "%matplotlib inline\n",
    "import os\n",
    "import re\n",
    "\n",
    "import pymorphy2\n",
    "import nltk\n",
    "from tqdm import tqdm\n",
    "\n",
    "import pickle\n",
    "\n",
    "import sys\n",
    "def add_sys_path(p):\n",
    "    if p not in sys.path:\n",
    "        sys.path.append(p)\n",
    "add_sys_path(os.path.dirname(os.getcwd()))\n",
    "\n",
    "from test_problem import util\n"
   ]
  },
  {
   "cell_type": "code",
   "execution_count": 5,
   "metadata": {
    "collapsed": true
   },
   "outputs": [],
   "source": [
    "REPO_ROOT = os.path.join('..')"
   ]
  },
  {
   "cell_type": "code",
   "execution_count": 2,
   "metadata": {
    "collapsed": true
   },
   "outputs": [],
   "source": [
    "from synthetic.naive import apply_to_new_data"
   ]
  },
  {
   "cell_type": "code",
   "execution_count": 3,
   "metadata": {},
   "outputs": [
    {
     "name": "stderr",
     "output_type": "stream",
     "text": [
      "C:\\Users\\ddale\\AppData\\Local\\Continuum\\Anaconda3\\lib\\site-packages\\gensim\\utils.py:865: UserWarning: detected Windows; aliasing chunkize to chunkize_serial\n",
      "  warnings.warn(\"detected Windows; aliasing chunkize to chunkize_serial\")\n"
     ]
    }
   ],
   "source": [
    "w2v_fpath = os.path.join(r\"C:\\Users\\ddale\\Downloads\\mv\", \"all.norm-sz100-w10-cb0-it1-min100.w2v\")\n",
    "import gensim\n",
    "w2v = gensim.models.KeyedVectors.load_word2vec_format(w2v_fpath, binary=True, unicode_errors='ignore')\n",
    "w2v.init_sims(replace=True)\n",
    "vocab = set(w2v.index2word)"
   ]
  },
  {
   "cell_type": "code",
   "execution_count": 6,
   "metadata": {},
   "outputs": [],
   "source": [
    "with open(os.path.join(REPO_ROOT, 'exploratory', 'total_counter.pkl'), 'rb') as file:\n",
    "    total_counter = pickle.load(file)\n",
    "with open(os.path.join(REPO_ROOT, 'exploratory', 'total_df.pkl'), 'rb') as file:\n",
    "    total_df = pickle.load(file)"
   ]
  },
  {
   "cell_type": "markdown",
   "metadata": {},
   "source": [
    "# Данные "
   ]
  },
  {
   "cell_type": "code",
   "execution_count": 8,
   "metadata": {},
   "outputs": [
    {
     "name": "stdout",
     "output_type": "stream",
     "text": [
      "(1539, 16)\n"
     ]
    },
    {
     "data": {
      "text/html": [
       "<div>\n",
       "<style>\n",
       "    .dataframe thead tr:only-child th {\n",
       "        text-align: right;\n",
       "    }\n",
       "\n",
       "    .dataframe thead th {\n",
       "        text-align: left;\n",
       "    }\n",
       "\n",
       "    .dataframe tbody tr th {\n",
       "        vertical-align: top;\n",
       "    }\n",
       "</style>\n",
       "<table border=\"1\" class=\"dataframe\">\n",
       "  <thead>\n",
       "    <tr style=\"text-align: right;\">\n",
       "      <th></th>\n",
       "      <th>PRODUCT</th>\n",
       "      <th>NAME</th>\n",
       "      <th>CATEGORY_ID</th>\n",
       "      <th>BRAND_ID</th>\n",
       "      <th>CATEGORY_NAME</th>\n",
       "      <th>BRAND_NAME</th>\n",
       "      <th>TYPE</th>\n",
       "      <th>SUBJECT</th>\n",
       "      <th>TEXT</th>\n",
       "      <th>POSTED_DATE</th>\n",
       "      <th>RATING</th>\n",
       "      <th>BENEFITS</th>\n",
       "      <th>DRAWBACKS</th>\n",
       "      <th>RECOMMENDED</th>\n",
       "      <th>LIKES_COUNT</th>\n",
       "      <th>DISLIKES_COUNT</th>\n",
       "    </tr>\n",
       "  </thead>\n",
       "  <tbody>\n",
       "    <tr>\n",
       "      <th>0</th>\n",
       "      <td>20025017</td>\n",
       "      <td>Морозильная камера Liebherr G 1213-20         ...</td>\n",
       "      <td>4020301</td>\n",
       "      <td>313</td>\n",
       "      <td>FREEZERS</td>\n",
       "      <td>Liebherr</td>\n",
       "      <td>review</td>\n",
       "      <td>NaN</td>\n",
       "      <td>Небольшая симпатичная морозильная камера, нашл...</td>\n",
       "      <td>02.09.2013</td>\n",
       "      <td>4.0</td>\n",
       "      <td>NaN</td>\n",
       "      <td>NaN</td>\n",
       "      <td>0</td>\n",
       "      <td>30</td>\n",
       "      <td>26</td>\n",
       "    </tr>\n",
       "    <tr>\n",
       "      <th>1</th>\n",
       "      <td>20025017</td>\n",
       "      <td>Морозильная камера Liebherr G 1213-20         ...</td>\n",
       "      <td>4020301</td>\n",
       "      <td>313</td>\n",
       "      <td>FREEZERS</td>\n",
       "      <td>Liebherr</td>\n",
       "      <td>review</td>\n",
       "      <td>NaN</td>\n",
       "      <td>Пользуемся месяц. Искали недорогую маленькую м...</td>\n",
       "      <td>17.09.2017</td>\n",
       "      <td>5.0</td>\n",
       "      <td>низкая цена по сравнению с другими с такими же...</td>\n",
       "      <td>Пока не нашла</td>\n",
       "      <td>0</td>\n",
       "      <td>1</td>\n",
       "      <td>0</td>\n",
       "    </tr>\n",
       "    <tr>\n",
       "      <th>2</th>\n",
       "      <td>20025017</td>\n",
       "      <td>Морозильная камера Liebherr G 1213-20         ...</td>\n",
       "      <td>4020301</td>\n",
       "      <td>313</td>\n",
       "      <td>FREEZERS</td>\n",
       "      <td>Liebherr</td>\n",
       "      <td>review</td>\n",
       "      <td>NaN</td>\n",
       "      <td>Морозилка хорошая, подошла по высоте кухонного...</td>\n",
       "      <td>25.08.2017</td>\n",
       "      <td>4.7</td>\n",
       "      <td>NaN</td>\n",
       "      <td>NaN</td>\n",
       "      <td>0</td>\n",
       "      <td>1</td>\n",
       "      <td>0</td>\n",
       "    </tr>\n",
       "  </tbody>\n",
       "</table>\n",
       "</div>"
      ],
      "text/plain": [
       "    PRODUCT                                               NAME  CATEGORY_ID  \\\n",
       "0  20025017  Морозильная камера Liebherr G 1213-20         ...      4020301   \n",
       "1  20025017  Морозильная камера Liebherr G 1213-20         ...      4020301   \n",
       "2  20025017  Морозильная камера Liebherr G 1213-20         ...      4020301   \n",
       "\n",
       "   BRAND_ID                             CATEGORY_NAME        BRAND_NAME  \\\n",
       "0       313  FREEZERS                                  Liebherr           \n",
       "1       313  FREEZERS                                  Liebherr           \n",
       "2       313  FREEZERS                                  Liebherr           \n",
       "\n",
       "     TYPE  SUBJECT                                               TEXT  \\\n",
       "0  review      NaN  Небольшая симпатичная морозильная камера, нашл...   \n",
       "1  review      NaN  Пользуемся месяц. Искали недорогую маленькую м...   \n",
       "2  review      NaN  Морозилка хорошая, подошла по высоте кухонного...   \n",
       "\n",
       "  POSTED_DATE  RATING                                           BENEFITS  \\\n",
       "0  02.09.2013     4.0                                                NaN   \n",
       "1  17.09.2017     5.0  низкая цена по сравнению с другими с такими же...   \n",
       "2  25.08.2017     4.7                                                NaN   \n",
       "\n",
       "       DRAWBACKS  RECOMMENDED  LIKES_COUNT  DISLIKES_COUNT  \n",
       "0            NaN            0           30              26  \n",
       "1  Пока не нашла            0            1               0  \n",
       "2            NaN            0            1               0  "
      ]
     },
     "execution_count": 8,
     "metadata": {},
     "output_type": "execute_result"
    }
   ],
   "source": [
    "data = pd.read_csv(os.path.join(REPO_ROOT, 'exploratory','proba_1_v5.csv'), index_col=0)\n",
    "print(data.shape)\n",
    "data.head(3)"
   ]
  },
  {
   "cell_type": "code",
   "execution_count": 11,
   "metadata": {},
   "outputs": [],
   "source": [
    "from synthetic import naive\n",
    "from importlib import reload\n",
    "reload(naive);"
   ]
  },
  {
   "cell_type": "code",
   "execution_count": 65,
   "metadata": {},
   "outputs": [
    {
     "data": {
      "text/plain": [
       "20035772    254\n",
       "20036154    152\n",
       "30024248    103\n",
       "30026637     97\n",
       "20030060     93\n",
       "Name: PRODUCT, dtype: int64"
      ]
     },
     "execution_count": 65,
     "metadata": {},
     "output_type": "execute_result"
    }
   ],
   "source": [
    "data.PRODUCT.value_counts().head()"
   ]
  },
  {
   "cell_type": "code",
   "execution_count": 66,
   "metadata": {
    "collapsed": true
   },
   "outputs": [],
   "source": [
    "prod1 = data[data.PRODUCT==20035772].copy()\n",
    "i=-1"
   ]
  },
  {
   "cell_type": "markdown",
   "metadata": {},
   "source": [
    "Цель - сделать разбиватор текста, который бы корректно отрабатывал на плюсах/минусах.\n",
    "\n",
    "Свойства:\n",
    "* утверждения \"<Прилагательное>\", \"<существительное-свойство>\" относятся к основному продукту\n",
    "* списки \"<СВОЙСТВО>, <СВОЙСТВО>, <СВОЙСТВО> ...\" разбиваются корректно\n",
    "* короткие списки \"<СВОЙСТВО>, <СВОЙСТВО> и <СВОЙСТВО>\" разбиваются корректно\n",
    "* вставляет запятые в предложения, где это нужно\n",
    "* текст в скобках относится к чему-то, к чему должен либо выкидывается\n",
    "* как-то отфильтровываются несодержательные предложения\n",
    "* отрезка по запятым для отношения сочинения, но сохранение целостности в случае подчинения"
   ]
  },
  {
   "cell_type": "code",
   "execution_count": null,
   "metadata": {
    "collapsed": true
   },
   "outputs": [],
   "source": [
    "6\n",
    "Процессор, видеокарта, звуковая система - это всё на высоте"
   ]
  },
  {
   "cell_type": "code",
   "execution_count": null,
   "metadata": {
    "collapsed": true
   },
   "outputs": [],
   "source": [
    "8\n",
    "крутой звук удобный лёгкий красивый хорошая клавиатура"
   ]
  },
  {
   "cell_type": "code",
   "execution_count": null,
   "metadata": {
    "collapsed": true
   },
   "outputs": [],
   "source": [
    "19\n",
    "лёгкий стильный"
   ]
  },
  {
   "cell_type": "code",
   "execution_count": null,
   "metadata": {
    "collapsed": true
   },
   "outputs": [],
   "source": [
    "25\n",
    "Маловато USB портов (2 штуки)"
   ]
  },
  {
   "cell_type": "code",
   "execution_count": null,
   "metadata": {
    "collapsed": true
   },
   "outputs": [],
   "source": [
    "21\n",
    "Думала, что много, но оказалось их сложно даже выискать"
   ]
  },
  {
   "cell_type": "code",
   "execution_count": null,
   "metadata": {
    "collapsed": true
   },
   "outputs": [],
   "source": [
    "24\n",
    "Не шумит, не трясётся, когда стирает, хорошо отжимает"
   ]
  },
  {
   "cell_type": "code",
   "execution_count": null,
   "metadata": {
    "collapsed": true
   },
   "outputs": [],
   "source": [
    "32\n",
    "Очень проста в управлении, стирает хорошо и не очень шумная."
   ]
  },
  {
   "cell_type": "code",
   "execution_count": null,
   "metadata": {
    "collapsed": true
   },
   "outputs": [],
   "source": [
    "33\n",
    "Хорошие отзывы покупателей ( по 5 штук в день пишут)"
   ]
  },
  {
   "cell_type": "code",
   "execution_count": null,
   "metadata": {
    "collapsed": true
   },
   "outputs": [],
   "source": [
    "39\n",
    "Класс потребления электроэнергии А+++, Тихая, удобное расположение кнопок и вместительная"
   ]
  },
  {
   "cell_type": "code",
   "execution_count": 32,
   "metadata": {},
   "outputs": [],
   "source": [
    "def split_benefits(text):\n",
    "    pass"
   ]
  },
  {
   "cell_type": "code",
   "execution_count": 50,
   "metadata": {
    "collapsed": true
   },
   "outputs": [],
   "source": [
    "i-=2"
   ]
  },
  {
   "cell_type": "code",
   "execution_count": 106,
   "metadata": {},
   "outputs": [
    {
     "name": "stdout",
     "output_type": "stream",
     "text": [
      "39\n",
      "Класс потребления электроэнергии А+++, Тихая, удобное расположение кнопок и вместительная\n",
      "\n",
      "Класс потребления электроэнергии А+++\n",
      "Тихая\n",
      "удобное расположение кнопок и вместительная\n",
      "удобное расположение кнопок\n",
      "вместительная\n"
     ]
    }
   ],
   "source": [
    "i+=1\n",
    "text = prod1.BENEFITS.fillna('').values[i]\n",
    "print(i)\n",
    "print(text)\n",
    "print()\n",
    "for c in naive.split_reviews(text):\n",
    "    print(c)\n"
   ]
  },
  {
   "cell_type": "code",
   "execution_count": null,
   "metadata": {
    "collapsed": true
   },
   "outputs": [],
   "source": []
  }
 ],
 "metadata": {
  "kernelspec": {
   "display_name": "Python 3",
   "language": "python",
   "name": "python3"
  },
  "language_info": {
   "codemirror_mode": {
    "name": "ipython",
    "version": 3
   },
   "file_extension": ".py",
   "mimetype": "text/x-python",
   "name": "python",
   "nbconvert_exporter": "python",
   "pygments_lexer": "ipython3",
   "version": "3.6.1"
  }
 },
 "nbformat": 4,
 "nbformat_minor": 2
}
