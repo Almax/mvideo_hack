{
 "cells": [
  {
   "cell_type": "code",
   "execution_count": 122,
   "metadata": {
    "collapsed": true
   },
   "outputs": [],
   "source": [
    "import pandas as pd\n",
    "import numpy as np\n",
    "import matplotlib.pyplot as plt\n",
    "%matplotlib inline\n",
    "import os\n",
    "import pickle"
   ]
  },
  {
   "cell_type": "code",
   "execution_count": 2,
   "metadata": {
    "collapsed": true
   },
   "outputs": [],
   "source": [
    "INPUT_ROOT = os.path.join('..','INPUT')"
   ]
  },
  {
   "cell_type": "markdown",
   "metadata": {},
   "source": [
    "### Датасет с лайками"
   ]
  },
  {
   "cell_type": "code",
   "execution_count": 54,
   "metadata": {},
   "outputs": [
    {
     "name": "stdout",
     "output_type": "stream",
     "text": [
      "(270941, 16)\n"
     ]
    },
    {
     "data": {
      "text/html": [
       "<div>\n",
       "<style>\n",
       "    .dataframe thead tr:only-child th {\n",
       "        text-align: right;\n",
       "    }\n",
       "\n",
       "    .dataframe thead th {\n",
       "        text-align: left;\n",
       "    }\n",
       "\n",
       "    .dataframe tbody tr th {\n",
       "        vertical-align: top;\n",
       "    }\n",
       "</style>\n",
       "<table border=\"1\" class=\"dataframe\">\n",
       "  <thead>\n",
       "    <tr style=\"text-align: right;\">\n",
       "      <th></th>\n",
       "      <th>PRODUCT</th>\n",
       "      <th>NAME</th>\n",
       "      <th>CATEGORY_ID</th>\n",
       "      <th>BRAND_ID</th>\n",
       "      <th>CATEGORY_NAME</th>\n",
       "      <th>BRAND_NAME</th>\n",
       "      <th>TYPE</th>\n",
       "      <th>SUBJECT</th>\n",
       "      <th>TEXT</th>\n",
       "      <th>POSTED_DATE</th>\n",
       "      <th>RATING</th>\n",
       "      <th>BENEFITS</th>\n",
       "      <th>DRAWBACKS</th>\n",
       "      <th>RECOMMENDED</th>\n",
       "      <th>LIKES_COUNT</th>\n",
       "      <th>DISLIKES_COUNT</th>\n",
       "    </tr>\n",
       "  </thead>\n",
       "  <tbody>\n",
       "    <tr>\n",
       "      <th>0</th>\n",
       "      <td>500677</td>\n",
       "      <td>ПО для сервиса М.Видео ЦП ПК пакет Office бесс...</td>\n",
       "      <td>2140302</td>\n",
       "      <td>251</td>\n",
       "      <td>PACKAGE SERVICES FOR PC</td>\n",
       "      <td>М.Видео</td>\n",
       "      <td>REVIEW</td>\n",
       "      <td>NaN</td>\n",
       "      <td>Я сравнивала цены у разных магазинов на это вс...</td>\n",
       "      <td>28.07.16 10:40:06</td>\n",
       "      <td>5.0</td>\n",
       "      <td>NaN</td>\n",
       "      <td>NaN</td>\n",
       "      <td>NaN</td>\n",
       "      <td>0.0</td>\n",
       "      <td>0.0</td>\n",
       "    </tr>\n",
       "    <tr>\n",
       "      <th>1</th>\n",
       "      <td>500678</td>\n",
       "      <td>ПО для сервиса М.Видео ЦП ПК пакет Office на г...</td>\n",
       "      <td>2140302</td>\n",
       "      <td>251</td>\n",
       "      <td>PACKAGE SERVICES FOR PC</td>\n",
       "      <td>М.Видео</td>\n",
       "      <td>REVIEW</td>\n",
       "      <td>Лучше взять лицензионку, чем комп лечить потом...</td>\n",
       "      <td>Без МС Офиса, как говорится, как без воды - и ...</td>\n",
       "      <td>28.07.16 10:38:03</td>\n",
       "      <td>5.0</td>\n",
       "      <td>NaN</td>\n",
       "      <td>NaN</td>\n",
       "      <td>NaN</td>\n",
       "      <td>0.0</td>\n",
       "      <td>0.0</td>\n",
       "    </tr>\n",
       "    <tr>\n",
       "      <th>2</th>\n",
       "      <td>500679</td>\n",
       "      <td>ПО для сервиса М.Видео ЦП ПК пакет Kaspersky  ...</td>\n",
       "      <td>2140302</td>\n",
       "      <td>251</td>\n",
       "      <td>PACKAGE SERVICES FOR PC</td>\n",
       "      <td>М.Видео</td>\n",
       "      <td>REVIEW</td>\n",
       "      <td>NaN</td>\n",
       "      <td>Совместимость со всеми практически гаджетами. ...</td>\n",
       "      <td>06.11.16 19:51:46</td>\n",
       "      <td>4.0</td>\n",
       "      <td>Универсальность. Быстрота действия. Точность о...</td>\n",
       "      <td>Работает для всех устройств. Но пакет для одно...</td>\n",
       "      <td>1.0</td>\n",
       "      <td>0.0</td>\n",
       "      <td>0.0</td>\n",
       "    </tr>\n",
       "    <tr>\n",
       "      <th>3</th>\n",
       "      <td>500679</td>\n",
       "      <td>ПО для сервиса М.Видео ЦП ПК пакет Kaspersky  ...</td>\n",
       "      <td>2140302</td>\n",
       "      <td>251</td>\n",
       "      <td>PACKAGE SERVICES FOR PC</td>\n",
       "      <td>М.Видео</td>\n",
       "      <td>REVIEW</td>\n",
       "      <td>Обеспечивает достойную защиту.</td>\n",
       "      <td>Универсальная прога, сразу заточена и под Макб...</td>\n",
       "      <td>11.08.16 14:19:12</td>\n",
       "      <td>5.0</td>\n",
       "      <td>NaN</td>\n",
       "      <td>NaN</td>\n",
       "      <td>NaN</td>\n",
       "      <td>0.0</td>\n",
       "      <td>0.0</td>\n",
       "    </tr>\n",
       "    <tr>\n",
       "      <th>4</th>\n",
       "      <td>500787</td>\n",
       "      <td>ПО для сервиса М.Видео ЦП ПК пакет Dr.Web Secu...</td>\n",
       "      <td>2140302</td>\n",
       "      <td>251</td>\n",
       "      <td>PACKAGE SERVICES FOR PC</td>\n",
       "      <td>М.Видео</td>\n",
       "      <td>REVIEW</td>\n",
       "      <td>Нормальная штука по доступной цене.</td>\n",
       "      <td>Доктором Вебом пользуюсь уже не первый год - н...</td>\n",
       "      <td>11.08.16 14:23:26</td>\n",
       "      <td>5.0</td>\n",
       "      <td>NaN</td>\n",
       "      <td>NaN</td>\n",
       "      <td>NaN</td>\n",
       "      <td>0.0</td>\n",
       "      <td>0.0</td>\n",
       "    </tr>\n",
       "  </tbody>\n",
       "</table>\n",
       "</div>"
      ],
      "text/plain": [
       "   PRODUCT                                               NAME  CATEGORY_ID  \\\n",
       "0   500677  ПО для сервиса М.Видео ЦП ПК пакет Office бесс...      2140302   \n",
       "1   500678  ПО для сервиса М.Видео ЦП ПК пакет Office на г...      2140302   \n",
       "2   500679  ПО для сервиса М.Видео ЦП ПК пакет Kaspersky  ...      2140302   \n",
       "3   500679  ПО для сервиса М.Видео ЦП ПК пакет Kaspersky  ...      2140302   \n",
       "4   500787  ПО для сервиса М.Видео ЦП ПК пакет Dr.Web Secu...      2140302   \n",
       "\n",
       "   BRAND_ID                               CATEGORY_NAME            BRAND_NAME  \\\n",
       "0       251  PACKAGE SERVICES FOR PC                     М.Видео                \n",
       "1       251  PACKAGE SERVICES FOR PC                     М.Видео                \n",
       "2       251  PACKAGE SERVICES FOR PC                     М.Видео                \n",
       "3       251  PACKAGE SERVICES FOR PC                     М.Видео                \n",
       "4       251  PACKAGE SERVICES FOR PC                     М.Видео                \n",
       "\n",
       "     TYPE                                            SUBJECT  \\\n",
       "0  REVIEW                                                NaN   \n",
       "1  REVIEW  Лучше взять лицензионку, чем комп лечить потом...   \n",
       "2  REVIEW                                                NaN   \n",
       "3  REVIEW                     Обеспечивает достойную защиту.   \n",
       "4  REVIEW                Нормальная штука по доступной цене.   \n",
       "\n",
       "                                                TEXT        POSTED_DATE  \\\n",
       "0  Я сравнивала цены у разных магазинов на это вс...  28.07.16 10:40:06   \n",
       "1  Без МС Офиса, как говорится, как без воды - и ...  28.07.16 10:38:03   \n",
       "2  Совместимость со всеми практически гаджетами. ...  06.11.16 19:51:46   \n",
       "3  Универсальная прога, сразу заточена и под Макб...  11.08.16 14:19:12   \n",
       "4  Доктором Вебом пользуюсь уже не первый год - н...  11.08.16 14:23:26   \n",
       "\n",
       "   RATING                                           BENEFITS  \\\n",
       "0     5.0                                                NaN   \n",
       "1     5.0                                                NaN   \n",
       "2     4.0  Универсальность. Быстрота действия. Точность о...   \n",
       "3     5.0                                                NaN   \n",
       "4     5.0                                                NaN   \n",
       "\n",
       "                                           DRAWBACKS  RECOMMENDED  \\\n",
       "0                                                NaN          NaN   \n",
       "1                                                NaN          NaN   \n",
       "2  Работает для всех устройств. Но пакет для одно...          1.0   \n",
       "3                                                NaN          NaN   \n",
       "4                                                NaN          NaN   \n",
       "\n",
       "   LIKES_COUNT  DISLIKES_COUNT  \n",
       "0          0.0             0.0  \n",
       "1          0.0             0.0  \n",
       "2          0.0             0.0  \n",
       "3          0.0             0.0  \n",
       "4          0.0             0.0  "
      ]
     },
     "execution_count": 54,
     "metadata": {},
     "output_type": "execute_result"
    }
   ],
   "source": [
    "d1_v2 = pd.read_csv(os.path.join( INPUT_ROOT, 'dataset1_v2.csv'), index_col=0)\n",
    "print(d1_v2.shape)\n",
    "d1_v2.head()"
   ]
  },
  {
   "cell_type": "code",
   "execution_count": 60,
   "metadata": {},
   "outputs": [],
   "source": [
    "prod2name = d1_v2.NAME.groupby(d1.PRODUCT).aggregate(lambda x:  x.astype(str).value_counts().index[0])"
   ]
  },
  {
   "cell_type": "code",
   "execution_count": 123,
   "metadata": {},
   "outputs": [],
   "source": [
    "with open('prod2name.pkl', 'wb') as file:\n",
    "    pickle.dump(prod2name, file)"
   ]
  },
  {
   "cell_type": "code",
   "execution_count": 70,
   "metadata": {},
   "outputs": [
    {
     "data": {
      "text/plain": [
       "count    36414.000000\n",
       "mean         7.440435\n",
       "std         13.380493\n",
       "min          1.000000\n",
       "25%          2.000000\n",
       "50%          3.000000\n",
       "75%          8.000000\n",
       "max        708.000000\n",
       "Name: NAME, dtype: float64"
      ]
     },
     "execution_count": 70,
     "metadata": {},
     "output_type": "execute_result"
    }
   ],
   "source": [
    "d1_v2.NAME.value_counts().describe()"
   ]
  },
  {
   "cell_type": "code",
   "execution_count": 71,
   "metadata": {},
   "outputs": [
    {
     "data": {
      "text/plain": [
       "count    36475.000000\n",
       "mean         7.428129\n",
       "std         13.368004\n",
       "min          1.000000\n",
       "25%          2.000000\n",
       "50%          3.000000\n",
       "75%          8.000000\n",
       "max        708.000000\n",
       "Name: PRODUCT, dtype: float64"
      ]
     },
     "execution_count": 71,
     "metadata": {},
     "output_type": "execute_result"
    }
   ],
   "source": [
    "d1_v2.PRODUCT.value_counts().describe()"
   ]
  },
  {
   "cell_type": "code",
   "execution_count": 72,
   "metadata": {},
   "outputs": [
    {
     "name": "stdout",
     "output_type": "stream",
     "text": [
      "36475 36414\n"
     ]
    }
   ],
   "source": [
    "print(d1_v2.PRODUCT.nunique(), d1_v2.NAME.nunique())"
   ]
  },
  {
   "cell_type": "code",
   "execution_count": 3,
   "metadata": {},
   "outputs": [
    {
     "name": "stdout",
     "output_type": "stream",
     "text": [
      "(270941, 15)\n"
     ]
    },
    {
     "data": {
      "text/html": [
       "<div>\n",
       "<style>\n",
       "    .dataframe thead tr:only-child th {\n",
       "        text-align: right;\n",
       "    }\n",
       "\n",
       "    .dataframe thead th {\n",
       "        text-align: left;\n",
       "    }\n",
       "\n",
       "    .dataframe tbody tr th {\n",
       "        vertical-align: top;\n",
       "    }\n",
       "</style>\n",
       "<table border=\"1\" class=\"dataframe\">\n",
       "  <thead>\n",
       "    <tr style=\"text-align: right;\">\n",
       "      <th></th>\n",
       "      <th>PRODUCT</th>\n",
       "      <th>CATEGORY_ID</th>\n",
       "      <th>BRAND_ID</th>\n",
       "      <th>CATEGORY_NAME</th>\n",
       "      <th>BRAND_NAME</th>\n",
       "      <th>TYPE</th>\n",
       "      <th>SUBJECT</th>\n",
       "      <th>TEXT</th>\n",
       "      <th>POSTED_DATE</th>\n",
       "      <th>RATING</th>\n",
       "      <th>BENEFITS</th>\n",
       "      <th>DRAWBACKS</th>\n",
       "      <th>RECOMMENDED</th>\n",
       "      <th>LIKES_COUNT</th>\n",
       "      <th>DISLIKES_COUNT</th>\n",
       "    </tr>\n",
       "  </thead>\n",
       "  <tbody>\n",
       "    <tr>\n",
       "      <th>0</th>\n",
       "      <td>30024724</td>\n",
       "      <td>2060202</td>\n",
       "      <td>1900</td>\n",
       "      <td>PRINTERS LASER</td>\n",
       "      <td>Kyocera</td>\n",
       "      <td>REVIEW</td>\n",
       "      <td>NaN</td>\n",
       "      <td>Что особенно ценно - при профилактике принтера...</td>\n",
       "      <td>23.10.16 22:26:00</td>\n",
       "      <td>5.0</td>\n",
       "      <td>хорошая скорость печати, двусторонняя печать, ...</td>\n",
       "      <td>Рядом \"на стол\" не поставишь, место много зани...</td>\n",
       "      <td>1.0</td>\n",
       "      <td>2.0</td>\n",
       "      <td>0.0</td>\n",
       "    </tr>\n",
       "    <tr>\n",
       "      <th>1</th>\n",
       "      <td>30024724</td>\n",
       "      <td>2060202</td>\n",
       "      <td>1900</td>\n",
       "      <td>PRINTERS LASER</td>\n",
       "      <td>Kyocera</td>\n",
       "      <td>REVIEW</td>\n",
       "      <td>NaN</td>\n",
       "      <td>Он у нас три месяца в офисе стоит уже - большо...</td>\n",
       "      <td>17.04.16 11:17:42</td>\n",
       "      <td>5.0</td>\n",
       "      <td>NaN</td>\n",
       "      <td>NaN</td>\n",
       "      <td>NaN</td>\n",
       "      <td>0.0</td>\n",
       "      <td>2.0</td>\n",
       "    </tr>\n",
       "    <tr>\n",
       "      <th>2</th>\n",
       "      <td>30024725</td>\n",
       "      <td>2060202</td>\n",
       "      <td>1900</td>\n",
       "      <td>PRINTERS LASER</td>\n",
       "      <td>Kyocera</td>\n",
       "      <td>REVIEW</td>\n",
       "      <td>NaN</td>\n",
       "      <td>Просто небо и земля с тем принтером, который у...</td>\n",
       "      <td>15.04.16 20:22:47</td>\n",
       "      <td>4.0</td>\n",
       "      <td>NaN</td>\n",
       "      <td>NaN</td>\n",
       "      <td>NaN</td>\n",
       "      <td>0.0</td>\n",
       "      <td>1.0</td>\n",
       "    </tr>\n",
       "    <tr>\n",
       "      <th>3</th>\n",
       "      <td>30024727</td>\n",
       "      <td>2060101</td>\n",
       "      <td>1900</td>\n",
       "      <td>ALL-IN-ONE LASER</td>\n",
       "      <td>Kyocera</td>\n",
       "      <td>REVIEW</td>\n",
       "      <td>С такой вроде бы навороченной техникой все смо...</td>\n",
       "      <td>У нас в кабинете недавно его поставили. Первое...</td>\n",
       "      <td>18.04.16 20:01:57</td>\n",
       "      <td>5.0</td>\n",
       "      <td>NaN</td>\n",
       "      <td>NaN</td>\n",
       "      <td>NaN</td>\n",
       "      <td>0.0</td>\n",
       "      <td>0.0</td>\n",
       "    </tr>\n",
       "    <tr>\n",
       "      <th>4</th>\n",
       "      <td>30024727</td>\n",
       "      <td>2060101</td>\n",
       "      <td>1900</td>\n",
       "      <td>ALL-IN-ONE LASER</td>\n",
       "      <td>Kyocera</td>\n",
       "      <td>REVIEW</td>\n",
       "      <td>NaN</td>\n",
       "      <td>Очень многофункциональная штука.  Есть все нео...</td>\n",
       "      <td>23.04.16 12:03:39</td>\n",
       "      <td>5.0</td>\n",
       "      <td>NaN</td>\n",
       "      <td>NaN</td>\n",
       "      <td>NaN</td>\n",
       "      <td>1.0</td>\n",
       "      <td>0.0</td>\n",
       "    </tr>\n",
       "  </tbody>\n",
       "</table>\n",
       "</div>"
      ],
      "text/plain": [
       "    PRODUCT  CATEGORY_ID  BRAND_ID  \\\n",
       "0  30024724      2060202      1900   \n",
       "1  30024724      2060202      1900   \n",
       "2  30024725      2060202      1900   \n",
       "3  30024727      2060101      1900   \n",
       "4  30024727      2060101      1900   \n",
       "\n",
       "                                CATEGORY_NAME            BRAND_NAME    TYPE  \\\n",
       "0  PRINTERS LASER                              Kyocera               REVIEW   \n",
       "1  PRINTERS LASER                              Kyocera               REVIEW   \n",
       "2  PRINTERS LASER                              Kyocera               REVIEW   \n",
       "3  ALL-IN-ONE LASER                            Kyocera               REVIEW   \n",
       "4  ALL-IN-ONE LASER                            Kyocera               REVIEW   \n",
       "\n",
       "                                             SUBJECT  \\\n",
       "0                                                NaN   \n",
       "1                                                NaN   \n",
       "2                                                NaN   \n",
       "3  С такой вроде бы навороченной техникой все смо...   \n",
       "4                                                NaN   \n",
       "\n",
       "                                                TEXT        POSTED_DATE  \\\n",
       "0  Что особенно ценно - при профилактике принтера...  23.10.16 22:26:00   \n",
       "1  Он у нас три месяца в офисе стоит уже - большо...  17.04.16 11:17:42   \n",
       "2  Просто небо и земля с тем принтером, который у...  15.04.16 20:22:47   \n",
       "3  У нас в кабинете недавно его поставили. Первое...  18.04.16 20:01:57   \n",
       "4  Очень многофункциональная штука.  Есть все нео...  23.04.16 12:03:39   \n",
       "\n",
       "   RATING                                           BENEFITS  \\\n",
       "0     5.0  хорошая скорость печати, двусторонняя печать, ...   \n",
       "1     5.0                                                NaN   \n",
       "2     4.0                                                NaN   \n",
       "3     5.0                                                NaN   \n",
       "4     5.0                                                NaN   \n",
       "\n",
       "                                           DRAWBACKS  RECOMMENDED  \\\n",
       "0  Рядом \"на стол\" не поставишь, место много зани...          1.0   \n",
       "1                                                NaN          NaN   \n",
       "2                                                NaN          NaN   \n",
       "3                                                NaN          NaN   \n",
       "4                                                NaN          NaN   \n",
       "\n",
       "   LIKES_COUNT  DISLIKES_COUNT  \n",
       "0          2.0             0.0  \n",
       "1          0.0             2.0  \n",
       "2          0.0             1.0  \n",
       "3          0.0             0.0  \n",
       "4          1.0             0.0  "
      ]
     },
     "execution_count": 3,
     "metadata": {},
     "output_type": "execute_result"
    }
   ],
   "source": [
    "d1 = pd.read_csv(os.path.join( INPUT_ROOT, 'dataset1.csv'), index_col=0)\n",
    "print(d1.shape)\n",
    "d1.head()"
   ]
  },
  {
   "cell_type": "code",
   "execution_count": 4,
   "metadata": {
    "collapsed": true
   },
   "outputs": [],
   "source": [
    "d1.POSTED_DATE = pd.to_datetime(d1.POSTED_DATE)"
   ]
  },
  {
   "cell_type": "code",
   "execution_count": null,
   "metadata": {
    "collapsed": true
   },
   "outputs": [],
   "source": [
    "lemmatized = "
   ]
  },
  {
   "cell_type": "code",
   "execution_count": 5,
   "metadata": {},
   "outputs": [
    {
     "data": {
      "text/html": [
       "<div>\n",
       "<style>\n",
       "    .dataframe thead tr:only-child th {\n",
       "        text-align: right;\n",
       "    }\n",
       "\n",
       "    .dataframe thead th {\n",
       "        text-align: left;\n",
       "    }\n",
       "\n",
       "    .dataframe tbody tr th {\n",
       "        vertical-align: top;\n",
       "    }\n",
       "</style>\n",
       "<table border=\"1\" class=\"dataframe\">\n",
       "  <thead>\n",
       "    <tr style=\"text-align: right;\">\n",
       "      <th></th>\n",
       "      <th>PRODUCT</th>\n",
       "      <th>CATEGORY_ID</th>\n",
       "      <th>BRAND_ID</th>\n",
       "      <th>RATING</th>\n",
       "      <th>RECOMMENDED</th>\n",
       "      <th>LIKES_COUNT</th>\n",
       "      <th>DISLIKES_COUNT</th>\n",
       "    </tr>\n",
       "  </thead>\n",
       "  <tbody>\n",
       "    <tr>\n",
       "      <th>count</th>\n",
       "      <td>2.709410e+05</td>\n",
       "      <td>2.709410e+05</td>\n",
       "      <td>270941.000000</td>\n",
       "      <td>270939.000000</td>\n",
       "      <td>63903.000000</td>\n",
       "      <td>261987.000000</td>\n",
       "      <td>261987.000000</td>\n",
       "    </tr>\n",
       "    <tr>\n",
       "      <th>mean</th>\n",
       "      <td>2.554853e+07</td>\n",
       "      <td>3.172627e+06</td>\n",
       "      <td>570.050494</td>\n",
       "      <td>4.321629</td>\n",
       "      <td>0.846752</td>\n",
       "      <td>12.077347</td>\n",
       "      <td>7.512342</td>\n",
       "    </tr>\n",
       "    <tr>\n",
       "      <th>std</th>\n",
       "      <td>1.223230e+07</td>\n",
       "      <td>1.385904e+06</td>\n",
       "      <td>645.780746</td>\n",
       "      <td>1.214494</td>\n",
       "      <td>0.360229</td>\n",
       "      <td>43.402505</td>\n",
       "      <td>31.594347</td>\n",
       "    </tr>\n",
       "    <tr>\n",
       "      <th>min</th>\n",
       "      <td>5.006770e+05</td>\n",
       "      <td>1.010102e+06</td>\n",
       "      <td>1.000000</td>\n",
       "      <td>0.000000</td>\n",
       "      <td>0.000000</td>\n",
       "      <td>0.000000</td>\n",
       "      <td>0.000000</td>\n",
       "    </tr>\n",
       "    <tr>\n",
       "      <th>25%</th>\n",
       "      <td>2.002409e+07</td>\n",
       "      <td>2.030301e+06</td>\n",
       "      <td>48.000000</td>\n",
       "      <td>4.000000</td>\n",
       "      <td>1.000000</td>\n",
       "      <td>1.000000</td>\n",
       "      <td>0.000000</td>\n",
       "    </tr>\n",
       "    <tr>\n",
       "      <th>50%</th>\n",
       "      <td>2.003259e+07</td>\n",
       "      <td>4.020601e+06</td>\n",
       "      <td>284.000000</td>\n",
       "      <td>5.000000</td>\n",
       "      <td>1.000000</td>\n",
       "      <td>5.000000</td>\n",
       "      <td>2.000000</td>\n",
       "    </tr>\n",
       "    <tr>\n",
       "      <th>75%</th>\n",
       "      <td>3.002367e+07</td>\n",
       "      <td>4.110102e+06</td>\n",
       "      <td>954.000000</td>\n",
       "      <td>5.000000</td>\n",
       "      <td>1.000000</td>\n",
       "      <td>13.000000</td>\n",
       "      <td>7.000000</td>\n",
       "    </tr>\n",
       "    <tr>\n",
       "      <th>max</th>\n",
       "      <td>5.004991e+07</td>\n",
       "      <td>7.010101e+06</td>\n",
       "      <td>3010.000000</td>\n",
       "      <td>5.000000</td>\n",
       "      <td>1.000000</td>\n",
       "      <td>11048.000000</td>\n",
       "      <td>10207.000000</td>\n",
       "    </tr>\n",
       "  </tbody>\n",
       "</table>\n",
       "</div>"
      ],
      "text/plain": [
       "            PRODUCT   CATEGORY_ID       BRAND_ID         RATING   RECOMMENDED  \\\n",
       "count  2.709410e+05  2.709410e+05  270941.000000  270939.000000  63903.000000   \n",
       "mean   2.554853e+07  3.172627e+06     570.050494       4.321629      0.846752   \n",
       "std    1.223230e+07  1.385904e+06     645.780746       1.214494      0.360229   \n",
       "min    5.006770e+05  1.010102e+06       1.000000       0.000000      0.000000   \n",
       "25%    2.002409e+07  2.030301e+06      48.000000       4.000000      1.000000   \n",
       "50%    2.003259e+07  4.020601e+06     284.000000       5.000000      1.000000   \n",
       "75%    3.002367e+07  4.110102e+06     954.000000       5.000000      1.000000   \n",
       "max    5.004991e+07  7.010101e+06    3010.000000       5.000000      1.000000   \n",
       "\n",
       "         LIKES_COUNT  DISLIKES_COUNT  \n",
       "count  261987.000000   261987.000000  \n",
       "mean       12.077347        7.512342  \n",
       "std        43.402505       31.594347  \n",
       "min         0.000000        0.000000  \n",
       "25%         1.000000        0.000000  \n",
       "50%         5.000000        2.000000  \n",
       "75%        13.000000        7.000000  \n",
       "max     11048.000000    10207.000000  "
      ]
     },
     "execution_count": 5,
     "metadata": {},
     "output_type": "execute_result"
    }
   ],
   "source": [
    "d1.describe()"
   ]
  },
  {
   "cell_type": "code",
   "execution_count": null,
   "metadata": {
    "collapsed": true
   },
   "outputs": [],
   "source": []
  },
  {
   "cell_type": "code",
   "execution_count": 8,
   "metadata": {},
   "outputs": [
    {
     "data": {
      "text/plain": [
       "'Хорошая такая большая машинка во всех смыслах слова. Очень большой барабан, обилие режимов для стирки, мощный отжим. И при этом всем достаточно тихая работа.'"
      ]
     },
     "execution_count": 8,
     "metadata": {},
     "output_type": "execute_result"
    }
   ],
   "source": [
    "d1.TEXT.sample(1).values[0]"
   ]
  },
  {
   "cell_type": "code",
   "execution_count": 63,
   "metadata": {},
   "outputs": [
    {
     "data": {
      "text/plain": [
       "1.0    54110\n",
       "0.0     9793\n",
       "Name: RECOMMENDED, dtype: int64"
      ]
     },
     "execution_count": 63,
     "metadata": {},
     "output_type": "execute_result"
    }
   ],
   "source": [
    "d1.RECOMMENDED.value_counts()"
   ]
  },
  {
   "cell_type": "code",
   "execution_count": 49,
   "metadata": {},
   "outputs": [
    {
     "data": {
      "text/plain": [
       "310"
      ]
     },
     "execution_count": 49,
     "metadata": {},
     "output_type": "execute_result"
    }
   ],
   "source": [
    "d1.CATEGORY_ID.nunique()"
   ]
  },
  {
   "cell_type": "code",
   "execution_count": 50,
   "metadata": {},
   "outputs": [
    {
     "data": {
      "text/plain": [
       "count      310.000000\n",
       "mean       874.003226\n",
       "std       1699.953903\n",
       "min          1.000000\n",
       "25%         54.250000\n",
       "50%        230.500000\n",
       "75%        894.250000\n",
       "max      13884.000000\n",
       "Name: CATEGORY_ID, dtype: float64"
      ]
     },
     "execution_count": 50,
     "metadata": {},
     "output_type": "execute_result"
    }
   ],
   "source": [
    "d1.CATEGORY_ID.value_counts().describe()"
   ]
  },
  {
   "cell_type": "code",
   "execution_count": 57,
   "metadata": {},
   "outputs": [
    {
     "data": {
      "text/plain": [
       "ACCESSORIES FOR RADIO-CONTROLLED DEVICES      9\n",
       "ACCESSORIES FOR HOODS                         8\n",
       "WATER HEATERS GAS                             7\n",
       "OLED-TV 40\\\" - 55\\\"                           6\n",
       "WINDOW AIR CONDITIONERS                       6\n",
       "OTHERS TELECOMMUNICATIONS                     5\n",
       "PHONE ADDITIONAL DEVICES                      4\n",
       "3D DIGITAL CAMERAS                            4\n",
       "FAXES                                         4\n",
       "PHOTO PRINTING                                4\n",
       "MP3-DISKS                                     3\n",
       "AUDIOBOOKS                                    3\n",
       "ACCESSORIES FOR NINTENDO WII                  3\n",
       "AUDIO/CD RECORDED                             3\n",
       "XEROX                                         3\n",
       "NEW PLANNAME PHOTO-AUTO 6                     2\n",
       "3D AUDIO SYSTEM                               2\n",
       "DIGITAL SERVICES FOR M_MOBILE                 2\n",
       "NEW PLANNAME TELECOM 8                        2\n",
       "INFRARED GAS HEATERS                          2\n",
       "3D CAMCORDERS DIGITAL                         2\n",
       "DIGITAL SERVICES FOR PC                       1\n",
       "OTHERS TELECOMMUNICATION PRODUCTS             1\n",
       "TOYS                                          1\n",
       "DEHUMIDIFIER                                  1\n",
       "ELECTRONIC DICTIONARIES                       1\n",
       "OTHERS COMPUTERS                              1\n",
       "BOOKS                                         1\n",
       "GAME CONSOLE PS2                              1\n",
       "COMPACT PHOTOPRINTERS                         1\n",
       "Name: CATEGORY_NAME, dtype: int64"
      ]
     },
     "execution_count": 57,
     "metadata": {},
     "output_type": "execute_result"
    }
   ],
   "source": [
    "d1.CATEGORY_NAME.value_counts().tail(30)"
   ]
  },
  {
   "cell_type": "code",
   "execution_count": 60,
   "metadata": {},
   "outputs": [
    {
     "data": {
      "text/plain": [
       "NOTEBOOK                                      13884\n",
       "SMARTPHONES                                   11761\n",
       "WASHING MACHINES                               9773\n",
       "REFRIGERATORS COMBI (BOTTOM-FREEZE)            8729\n",
       "TABLET COMPUTERS                               7066\n",
       "HEADPHONES                                     6974\n",
       "KETTLES                                        6316\n",
       "HAIR CARE                                      5750\n",
       "VACUUM CLEANERS WITH THE CONTAINER FOR A       5686\n",
       "IRONS                                          5683\n",
       "LED TV 39\\\"-42\\\"                               5429\n",
       "MULTICOOKERS                                   5246\n",
       "GAME ACCESSORIES FOR COMPUTERS                 4685\n",
       "LED TV 32\\\"-38\\\"                               4562\n",
       "MIXERS/BLENDERS                                4211\n",
       "COMPUTERS                                      4013\n",
       "EPILATORS AND WOMEN'S SHAVERS                  3530\n",
       "SPECIALISED VACUUM CLEANERS AND CAR WASH       3385\n",
       "SAMSUNG SMARTPHONES                            3265\n",
       "PORTABLE PLAYERS+                              3076\n",
       "CAM                                            3031\n",
       "CAPPUCCINO&ESPRESSO MACHINES                   2999\n",
       "EE-BOOKS                                       2915\n",
       "DIGITAL CAMERAS COMPACT                        2835\n",
       "DVR                                            2818\n",
       "LED TV 43\\\"-50\\\"                               2621\n",
       "APPLE IPHONE                                   2619\n",
       "BUILT-IN COOKTOPS                              2478\n",
       "BUILT-IN OVEN                                  2472\n",
       "MEN'S SHAVERS                                  2435\n",
       "MOBILE PHONES                                  2434\n",
       "HAIR CUT                                       2377\n",
       "MEAT GRINDER                                   2327\n",
       "NETWORK EQUIPMENT                              2209\n",
       "CAR SPEAKERS                                   2125\n",
       "LED TV 15\\\"-30\\\"                               2006\n",
       "VACUUM CLEANERS WITH A DUST COLLECTOR          1996\n",
       "HUMIDIFIERS                                    1988\n",
       "VIDEO GAMES FOR PLAYSTATION 4                  1982\n",
       "OTHERS SHA                                     1979\n",
       "MONITORS                                       1927\n",
       "BREAD MAKERS                                   1907\n",
       "SCALES FLOOR                                   1870\n",
       "JUICE MAKERS                                   1825\n",
       "NAVIGATION SYSTEM                              1789\n",
       "PORTABLE ACOUSTICS                             1788\n",
       "COFFEEMAKERS                                   1768\n",
       "BUILT-IN HOODS                                 1597\n",
       "POWER BANK                                     1529\n",
       "EXTERNAL HDD / CASES                           1497\n",
       "Name: CATEGORY_NAME, dtype: int64"
      ]
     },
     "execution_count": 60,
     "metadata": {},
     "output_type": "execute_result"
    }
   ],
   "source": [
    "d1.CATEGORY_NAME.value_counts().head(50)"
   ]
  },
  {
   "cell_type": "markdown",
   "metadata": {},
   "source": [
    "Для большинства продуктов есть 1-2-3 отзыва. Но есть мегапродукты с кучей отзывов, и они нас сильнее всего интересуют. "
   ]
  },
  {
   "cell_type": "code",
   "execution_count": 58,
   "metadata": {},
   "outputs": [
    {
     "data": {
      "text/plain": [
       "count    36475.000000\n",
       "mean         7.428129\n",
       "std         13.368004\n",
       "min          1.000000\n",
       "25%          2.000000\n",
       "50%          3.000000\n",
       "75%          8.000000\n",
       "max        708.000000\n",
       "Name: PRODUCT, dtype: float64"
      ]
     },
     "execution_count": 58,
     "metadata": {},
     "output_type": "execute_result"
    }
   ],
   "source": [
    "d1.PRODUCT.value_counts().describe()"
   ]
  },
  {
   "cell_type": "code",
   "execution_count": 61,
   "metadata": {},
   "outputs": [
    {
     "data": {
      "text/plain": [
       "REVIEW    270941\n",
       "Name: TYPE, dtype: int64"
      ]
     },
     "execution_count": 61,
     "metadata": {},
     "output_type": "execute_result"
    }
   ],
   "source": [
    "d1.TYPE.value_counts()"
   ]
  },
  {
   "cell_type": "code",
   "execution_count": 39,
   "metadata": {},
   "outputs": [
    {
     "data": {
      "text/plain": [
       "<matplotlib.axes._subplots.AxesSubplot at 0x19820e4bac8>"
      ]
     },
     "execution_count": 39,
     "metadata": {},
     "output_type": "execute_result"
    },
    {
     "data": {
      "image/png": "[encoded data removed]",
      "text/plain": [
       "<matplotlib.figure.Figure at 0x1981d088630>"
      ]
     },
     "metadata": {},
     "output_type": "display_data"
    }
   ],
   "source": [
    "d1.POSTED_DATE.dt.round('30d').hist()"
   ]
  },
  {
   "cell_type": "code",
   "execution_count": 48,
   "metadata": {},
   "outputs": [
    {
     "data": {
      "text/plain": [
       "PRODUCT           0.000000\n",
       "CATEGORY_ID       0.000000\n",
       "BRAND_ID          0.000000\n",
       "CATEGORY_NAME     0.000000\n",
       "BRAND_NAME        0.000000\n",
       "TYPE              0.000000\n",
       "SUBJECT           0.286764\n",
       "TEXT              0.000000\n",
       "POSTED_DATE       0.000000\n",
       "RATING            0.000007\n",
       "BENEFITS          0.805489\n",
       "DRAWBACKS         0.812509\n",
       "RECOMMENDED       0.764144\n",
       "LIKES_COUNT       0.033048\n",
       "DISLIKES_COUNT    0.033048\n",
       "dtype: float64"
      ]
     },
     "execution_count": 48,
     "metadata": {},
     "output_type": "execute_result"
    }
   ],
   "source": [
    "d1.isnull().mean()"
   ]
  },
  {
   "cell_type": "code",
   "execution_count": 40,
   "metadata": {},
   "outputs": [
    {
     "data": {
      "text/plain": [
       "POSTED_DATE\n",
       "2009    0.000000\n",
       "2010    0.000000\n",
       "2011    0.000000\n",
       "2012    0.000000\n",
       "2013    0.000000\n",
       "2014    0.000000\n",
       "2015    0.000000\n",
       "2016    0.387545\n",
       "2017    1.000000\n",
       "Name: SUBJECT, dtype: float64"
      ]
     },
     "execution_count": 40,
     "metadata": {},
     "output_type": "execute_result"
    }
   ],
   "source": [
    "d1.SUBJECT.isnull().groupby(d1.POSTED_DATE.dt.year).mean()"
   ]
  },
  {
   "cell_type": "code",
   "execution_count": 41,
   "metadata": {},
   "outputs": [
    {
     "data": {
      "text/plain": [
       "POSTED_DATE\n",
       "2009    1.000000\n",
       "2010    1.000000\n",
       "2011    1.000000\n",
       "2012    1.000000\n",
       "2013    1.000000\n",
       "2014    1.000000\n",
       "2015    1.000000\n",
       "2016    0.822128\n",
       "2017    0.154380\n",
       "Name: BENEFITS, dtype: float64"
      ]
     },
     "execution_count": 41,
     "metadata": {},
     "output_type": "execute_result"
    }
   ],
   "source": [
    "d1.BENEFITS.isnull().groupby(d1.POSTED_DATE.dt.year).mean()"
   ]
  },
  {
   "cell_type": "code",
   "execution_count": 65,
   "metadata": {},
   "outputs": [
    {
     "name": "stdout",
     "output_type": "stream",
     "text": [
      "2016-01-11 00:30:11\n",
      "2016-01-11 00:30:11\n",
      "2016-01-11 00:20:37\n",
      "2016-12-10 23:46:35\n"
     ]
    }
   ],
   "source": [
    "print(d1.POSTED_DATE[d1.BENEFITS.notnull()].min())\n",
    "print(d1.POSTED_DATE[d1.DRAWBACKS.notnull()].min())\n",
    "print(d1.POSTED_DATE[d1.RECOMMENDED.notnull()].min())\n",
    "print(d1.POSTED_DATE[d1.SUBJECT.notnull()].max())"
   ]
  },
  {
   "cell_type": "code",
   "execution_count": 28,
   "metadata": {},
   "outputs": [
    {
     "data": {
      "text/plain": [
       "PRODUCT           0.000000\n",
       "CATEGORY_ID       0.000000\n",
       "BRAND_ID          0.000000\n",
       "CATEGORY_NAME     0.000000\n",
       "BRAND_NAME        0.000000\n",
       "TYPE              0.000000\n",
       "SUBJECT           0.286764\n",
       "TEXT              0.000000\n",
       "POSTED_DATE       0.000000\n",
       "RATING            0.000007\n",
       "BENEFITS          0.805489\n",
       "DRAWBACKS         0.812509\n",
       "RECOMMENDED       0.764144\n",
       "LIKES_COUNT       0.033048\n",
       "DISLIKES_COUNT    0.033048\n",
       "dtype: float64"
      ]
     },
     "execution_count": 28,
     "metadata": {},
     "output_type": "execute_result"
    }
   ],
   "source": [
    "d1.isnull().mean()"
   ]
  },
  {
   "cell_type": "code",
   "execution_count": 52,
   "metadata": {},
   "outputs": [
    {
     "data": {
      "text/plain": [
       "{'BENEFITS': nan,\n",
       " 'DRAWBACKS': nan,\n",
       " 'RATING': 2.0,\n",
       " 'RECOMMENDED': nan,\n",
       " 'SUBJECT': 'проблемы с заправкой',\n",
       " 'TEXT': '\\n\\tРешил заправить картридж, когда оставался 1%. Заправил, но как только напечатал 2500 страниц с начала использования картриджа (не от последней заправки) МФУ заблокировался. Для разблокировки надо покупать карту, при этом с неоригинальными картами (как написано у продавцов) могут возникнуть проблемы при печати. Прошивка с карты занимает до 48 часов. Вообщем надолго остался без принтера... Да и еще. Как говорят снятие блока будет действовать до 3000 или 12000 листов. А потом процедуру надо будет повторять.. Вообщем решил поменять МФУ...\\n'}"
      ]
     },
     "execution_count": 52,
     "metadata": {},
     "output_type": "execute_result"
    }
   ],
   "source": [
    "d1[['SUBJECT','TEXT', 'BENEFITS','DRAWBACKS', 'RECOMMENDED', 'RATING']].sample(1).squeeze().to_dict()"
   ]
  },
  {
   "cell_type": "code",
   "execution_count": 36,
   "metadata": {},
   "outputs": [
    {
     "data": {
      "text/plain": [
       "193275                                 панель электрическая\n",
       "86277                                  не многоцветная!!!!!\n",
       "62268                                  ремонт Explay PN-980\n",
       "158269                                   отработал 3 месяца\n",
       "84651     Не дорогой, качественный и многофункциональный...\n",
       "39111                                      шикарный аппарат\n",
       "114134                       FM-трансмиттер RITMIX FMT-A911\n",
       "93836                   Достаточно качественный RoadRunner \n",
       "237553                                  отличная мясорубка!\n",
       "113106                                             Доволен.\n",
       "Name: SUBJECT, dtype: object"
      ]
     },
     "execution_count": 36,
     "metadata": {},
     "output_type": "execute_result"
    }
   ],
   "source": [
    "d1['SUBJECT'].dropna().sample(10)"
   ]
  },
  {
   "cell_type": "code",
   "execution_count": 48,
   "metadata": {},
   "outputs": [
    {
     "data": {
      "text/plain": [
       "отзыв                   5331\n",
       "комментарий эксперта    1188\n",
       "супер                   1136\n",
       "отлично                  960\n",
       "отзыв про acer           595\n",
       "супер!                   508\n",
       "-                        502\n",
       "вопрос                   483\n",
       "рекомендую               466\n",
       "пылесос                  442\n",
       "мнение эксперта          422\n",
       "отлично!                 389\n",
       "хороший                  387\n",
       "отличный пылесос         379\n",
       "отличный телевизор       371\n",
       "отличный                 368\n",
       "класс                    333\n",
       "наушники                 326\n",
       "телевизор                318\n",
       "холодильник              315\n",
       "мультиварка              303\n",
       "отличная модель          301\n",
       "отличный телефон         293\n",
       "ноутбук                  291\n",
       "доволен                  282\n",
       "отличный холодильник     282\n",
       "качество                 276\n",
       "отличный аппарат         268\n",
       "блендер                  264\n",
       "отличный выбор           263\n",
       "Name: SUBJECT, dtype: int64"
      ]
     },
     "execution_count": 48,
     "metadata": {},
     "output_type": "execute_result"
    }
   ],
   "source": [
    "d1['SUBJECT'].dropna().apply(lambda x: str(x).lower()).value_counts().head(30)"
   ]
  },
  {
   "cell_type": "markdown",
   "metadata": {},
   "source": [
    "##  Характеристики товара"
   ]
  },
  {
   "cell_type": "code",
   "execution_count": 55,
   "metadata": {},
   "outputs": [
    {
     "name": "stdout",
     "output_type": "stream",
     "text": [
      "(489331, 15)\n"
     ]
    },
    {
     "data": {
      "text/html": [
       "<div>\n",
       "<style>\n",
       "    .dataframe thead tr:only-child th {\n",
       "        text-align: right;\n",
       "    }\n",
       "\n",
       "    .dataframe thead th {\n",
       "        text-align: left;\n",
       "    }\n",
       "\n",
       "    .dataframe tbody tr th {\n",
       "        vertical-align: top;\n",
       "    }\n",
       "</style>\n",
       "<table border=\"1\" class=\"dataframe\">\n",
       "  <thead>\n",
       "    <tr style=\"text-align: right;\">\n",
       "      <th></th>\n",
       "      <th>PRODUCT</th>\n",
       "      <th>NAME_x</th>\n",
       "      <th>CATEGORY_ID</th>\n",
       "      <th>BRAND_ID</th>\n",
       "      <th>CATEGORY_NAME</th>\n",
       "      <th>BRAND_NAME</th>\n",
       "      <th>PRICE_SEGM</th>\n",
       "      <th>MATERIAL_NUMBER</th>\n",
       "      <th>CODE</th>\n",
       "      <th>NAME_y</th>\n",
       "      <th>VALUE</th>\n",
       "      <th>MEASURE</th>\n",
       "      <th>ORDER</th>\n",
       "      <th>GROUP_ID</th>\n",
       "      <th>GROUP_NAME</th>\n",
       "    </tr>\n",
       "  </thead>\n",
       "  <tbody>\n",
       "    <tr>\n",
       "      <th>0</th>\n",
       "      <td>10000032</td>\n",
       "      <td>Телевизор Sony KDL-32 EX40B                   ...</td>\n",
       "      <td>1070902</td>\n",
       "      <td>1</td>\n",
       "      <td>LED TV 32\\\"-38\\\"</td>\n",
       "      <td>Sony</td>\n",
       "      <td>8</td>\n",
       "      <td>10000032</td>\n",
       "      <td>34</td>\n",
       "      <td>Гарантия</td>\n",
       "      <td>1 год</td>\n",
       "      <td>NaN</td>\n",
       "      <td>2</td>\n",
       "      <td>0.0</td>\n",
       "      <td>NaN</td>\n",
       "    </tr>\n",
       "    <tr>\n",
       "      <th>1</th>\n",
       "      <td>10000032</td>\n",
       "      <td>Телевизор Sony KDL-32 EX40B                   ...</td>\n",
       "      <td>1070902</td>\n",
       "      <td>1</td>\n",
       "      <td>LED TV 32\\\"-38\\\"</td>\n",
       "      <td>Sony</td>\n",
       "      <td>8</td>\n",
       "      <td>10000032</td>\n",
       "      <td>115</td>\n",
       "      <td>Потребляемая мощность</td>\n",
       "      <td>128</td>\n",
       "      <td>Вт</td>\n",
       "      <td>91</td>\n",
       "      <td>14.0</td>\n",
       "      <td>Электропитание</td>\n",
       "    </tr>\n",
       "    <tr>\n",
       "      <th>2</th>\n",
       "      <td>10000032</td>\n",
       "      <td>Телевизор Sony KDL-32 EX40B                   ...</td>\n",
       "      <td>1070902</td>\n",
       "      <td>1</td>\n",
       "      <td>LED TV 32\\\"-38\\\"</td>\n",
       "      <td>Sony</td>\n",
       "      <td>8</td>\n",
       "      <td>10000032</td>\n",
       "      <td>258</td>\n",
       "      <td>Диагональ экрана</td>\n",
       "      <td>81.2</td>\n",
       "      <td>см</td>\n",
       "      <td>111</td>\n",
       "      <td>0.0</td>\n",
       "      <td>NaN</td>\n",
       "    </tr>\n",
       "    <tr>\n",
       "      <th>3</th>\n",
       "      <td>10000032</td>\n",
       "      <td>Телевизор Sony KDL-32 EX40B                   ...</td>\n",
       "      <td>1070902</td>\n",
       "      <td>1</td>\n",
       "      <td>LED TV 32\\\"-38\\\"</td>\n",
       "      <td>Sony</td>\n",
       "      <td>8</td>\n",
       "      <td>10000032</td>\n",
       "      <td>3</td>\n",
       "      <td>Высота</td>\n",
       "      <td>53</td>\n",
       "      <td>см</td>\n",
       "      <td>112</td>\n",
       "      <td>0.0</td>\n",
       "      <td>NaN</td>\n",
       "    </tr>\n",
       "    <tr>\n",
       "      <th>4</th>\n",
       "      <td>10000032</td>\n",
       "      <td>Телевизор Sony KDL-32 EX40B                   ...</td>\n",
       "      <td>1070902</td>\n",
       "      <td>1</td>\n",
       "      <td>LED TV 32\\\"-38\\\"</td>\n",
       "      <td>Sony</td>\n",
       "      <td>8</td>\n",
       "      <td>10000032</td>\n",
       "      <td>1</td>\n",
       "      <td>Ширина</td>\n",
       "      <td>80</td>\n",
       "      <td>см</td>\n",
       "      <td>113</td>\n",
       "      <td>0.0</td>\n",
       "      <td>NaN</td>\n",
       "    </tr>\n",
       "  </tbody>\n",
       "</table>\n",
       "</div>"
      ],
      "text/plain": [
       "    PRODUCT                                             NAME_x  CATEGORY_ID  \\\n",
       "0  10000032  Телевизор Sony KDL-32 EX40B                   ...      1070902   \n",
       "1  10000032  Телевизор Sony KDL-32 EX40B                   ...      1070902   \n",
       "2  10000032  Телевизор Sony KDL-32 EX40B                   ...      1070902   \n",
       "3  10000032  Телевизор Sony KDL-32 EX40B                   ...      1070902   \n",
       "4  10000032  Телевизор Sony KDL-32 EX40B                   ...      1070902   \n",
       "\n",
       "   BRAND_ID         CATEGORY_NAME        BRAND_NAME  PRICE_SEGM  \\\n",
       "0         1  LED TV 32\\\"-38\\\"      Sony                       8   \n",
       "1         1  LED TV 32\\\"-38\\\"      Sony                       8   \n",
       "2         1  LED TV 32\\\"-38\\\"      Sony                       8   \n",
       "3         1  LED TV 32\\\"-38\\\"      Sony                       8   \n",
       "4         1  LED TV 32\\\"-38\\\"      Sony                       8   \n",
       "\n",
       "   MATERIAL_NUMBER  CODE                 NAME_y  VALUE MEASURE  ORDER  \\\n",
       "0         10000032    34               Гарантия  1 год     NaN      2   \n",
       "1         10000032   115  Потребляемая мощность    128      Вт     91   \n",
       "2         10000032   258       Диагональ экрана   81.2      см    111   \n",
       "3         10000032     3                 Высота     53      см    112   \n",
       "4         10000032     1                 Ширина     80      см    113   \n",
       "\n",
       "   GROUP_ID      GROUP_NAME  \n",
       "0       0.0             NaN  \n",
       "1      14.0  Электропитание  \n",
       "2       0.0             NaN  \n",
       "3       0.0             NaN  \n",
       "4       0.0             NaN  "
      ]
     },
     "execution_count": 55,
     "metadata": {},
     "output_type": "execute_result"
    }
   ],
   "source": [
    "d2_v2 = pd.read_csv(os.path.join( INPUT_ROOT, 'dataset2_v2.csv'), index_col=0)\n",
    "print(d2_v2.shape)\n",
    "d2_v2.head()"
   ]
  },
  {
   "cell_type": "code",
   "execution_count": 58,
   "metadata": {
    "collapsed": true
   },
   "outputs": [],
   "source": [
    "prod2name_2 = d2_v2.NAME_x.groupby(d1.PRODUCT).aggregate(lambda x:x.value_counts().index[0])"
   ]
  },
  {
   "cell_type": "code",
   "execution_count": 68,
   "metadata": {},
   "outputs": [
    {
     "data": {
      "text/plain": [
       "count    10966.000000\n",
       "mean        44.622561\n",
       "std          9.899314\n",
       "min          1.000000\n",
       "25%         40.000000\n",
       "50%         46.000000\n",
       "75%         50.000000\n",
       "max         71.000000\n",
       "Name: PRODUCT, dtype: float64"
      ]
     },
     "execution_count": 68,
     "metadata": {},
     "output_type": "execute_result"
    }
   ],
   "source": [
    "d2_v2.PRODUCT.value_counts().describe()"
   ]
  },
  {
   "cell_type": "code",
   "execution_count": 69,
   "metadata": {},
   "outputs": [
    {
     "data": {
      "text/plain": [
       "count    10297.000000\n",
       "mean        45.040594\n",
       "std          9.886325\n",
       "min          1.000000\n",
       "25%         41.000000\n",
       "50%         46.000000\n",
       "75%         50.000000\n",
       "max        158.000000\n",
       "Name: NAME_x, dtype: float64"
      ]
     },
     "execution_count": 69,
     "metadata": {},
     "output_type": "execute_result"
    }
   ],
   "source": [
    "d2_v2.NAME_x.value_counts().describe()"
   ]
  },
  {
   "cell_type": "code",
   "execution_count": 11,
   "metadata": {},
   "outputs": [
    {
     "name": "stdout",
     "output_type": "stream",
     "text": [
      "(489331, 14)\n"
     ]
    },
    {
     "data": {
      "text/html": [
       "<div>\n",
       "<style>\n",
       "    .dataframe thead tr:only-child th {\n",
       "        text-align: right;\n",
       "    }\n",
       "\n",
       "    .dataframe thead th {\n",
       "        text-align: left;\n",
       "    }\n",
       "\n",
       "    .dataframe tbody tr th {\n",
       "        vertical-align: top;\n",
       "    }\n",
       "</style>\n",
       "<table border=\"1\" class=\"dataframe\">\n",
       "  <thead>\n",
       "    <tr style=\"text-align: right;\">\n",
       "      <th></th>\n",
       "      <th>PRODUCT</th>\n",
       "      <th>CATEGORY_ID</th>\n",
       "      <th>BRAND_ID</th>\n",
       "      <th>CATEGORY_NAME</th>\n",
       "      <th>BRAND_NAME</th>\n",
       "      <th>PRICE_SEGM</th>\n",
       "      <th>MATERIAL_NUMBER</th>\n",
       "      <th>CODE</th>\n",
       "      <th>NAME</th>\n",
       "      <th>VALUE</th>\n",
       "      <th>MEASURE</th>\n",
       "      <th>ORDER</th>\n",
       "      <th>GROUP_ID</th>\n",
       "      <th>GROUP_NAME</th>\n",
       "    </tr>\n",
       "  </thead>\n",
       "  <tbody>\n",
       "    <tr>\n",
       "      <th>0</th>\n",
       "      <td>20022936</td>\n",
       "      <td>4120101</td>\n",
       "      <td>63</td>\n",
       "      <td>IRONS</td>\n",
       "      <td>Rowenta</td>\n",
       "      <td>1</td>\n",
       "      <td>20022936</td>\n",
       "      <td>22</td>\n",
       "      <td>Вес</td>\n",
       "      <td>1.5</td>\n",
       "      <td>кг</td>\n",
       "      <td>32</td>\n",
       "      <td>53.0</td>\n",
       "      <td>Цвет и вес</td>\n",
       "    </tr>\n",
       "    <tr>\n",
       "      <th>1</th>\n",
       "      <td>20022936</td>\n",
       "      <td>4120101</td>\n",
       "      <td>63</td>\n",
       "      <td>IRONS</td>\n",
       "      <td>Rowenta</td>\n",
       "      <td>1</td>\n",
       "      <td>20022936</td>\n",
       "      <td>34</td>\n",
       "      <td>Гарантия</td>\n",
       "      <td>2 года</td>\n",
       "      <td>NaN</td>\n",
       "      <td>2</td>\n",
       "      <td>0.0</td>\n",
       "      <td>NaN</td>\n",
       "    </tr>\n",
       "    <tr>\n",
       "      <th>2</th>\n",
       "      <td>20022936</td>\n",
       "      <td>4120101</td>\n",
       "      <td>63</td>\n",
       "      <td>IRONS</td>\n",
       "      <td>Rowenta</td>\n",
       "      <td>1</td>\n",
       "      <td>20022936</td>\n",
       "      <td>36</td>\n",
       "      <td>Страна</td>\n",
       "      <td>Германия</td>\n",
       "      <td>NaN</td>\n",
       "      <td>3</td>\n",
       "      <td>0.0</td>\n",
       "      <td>NaN</td>\n",
       "    </tr>\n",
       "    <tr>\n",
       "      <th>3</th>\n",
       "      <td>20022936</td>\n",
       "      <td>4120101</td>\n",
       "      <td>63</td>\n",
       "      <td>IRONS</td>\n",
       "      <td>Rowenta</td>\n",
       "      <td>1</td>\n",
       "      <td>20022936</td>\n",
       "      <td>202</td>\n",
       "      <td>Самоочистка от накипи</td>\n",
       "      <td>Да</td>\n",
       "      <td>NaN</td>\n",
       "      <td>16</td>\n",
       "      <td>107.0</td>\n",
       "      <td>Защита от накипи</td>\n",
       "    </tr>\n",
       "    <tr>\n",
       "      <th>4</th>\n",
       "      <td>20022936</td>\n",
       "      <td>4120101</td>\n",
       "      <td>63</td>\n",
       "      <td>IRONS</td>\n",
       "      <td>Rowenta</td>\n",
       "      <td>1</td>\n",
       "      <td>20022936</td>\n",
       "      <td>954</td>\n",
       "      <td>Инд. готовности к работе</td>\n",
       "      <td>Да</td>\n",
       "      <td>NaN</td>\n",
       "      <td>19</td>\n",
       "      <td>20.0</td>\n",
       "      <td>Индикация</td>\n",
       "    </tr>\n",
       "  </tbody>\n",
       "</table>\n",
       "</div>"
      ],
      "text/plain": [
       "    PRODUCT  CATEGORY_ID  BRAND_ID         CATEGORY_NAME        BRAND_NAME  \\\n",
       "0  20022936      4120101        63  IRONS                 Rowenta            \n",
       "1  20022936      4120101        63  IRONS                 Rowenta            \n",
       "2  20022936      4120101        63  IRONS                 Rowenta            \n",
       "3  20022936      4120101        63  IRONS                 Rowenta            \n",
       "4  20022936      4120101        63  IRONS                 Rowenta            \n",
       "\n",
       "   PRICE_SEGM  MATERIAL_NUMBER  CODE                      NAME     VALUE  \\\n",
       "0           1         20022936    22                       Вес       1.5   \n",
       "1           1         20022936    34                  Гарантия    2 года   \n",
       "2           1         20022936    36                    Страна  Германия   \n",
       "3           1         20022936   202     Самоочистка от накипи        Да   \n",
       "4           1         20022936   954  Инд. готовности к работе        Да   \n",
       "\n",
       "  MEASURE  ORDER  GROUP_ID        GROUP_NAME  \n",
       "0      кг     32      53.0        Цвет и вес  \n",
       "1     NaN      2       0.0               NaN  \n",
       "2     NaN      3       0.0               NaN  \n",
       "3     NaN     16     107.0  Защита от накипи  \n",
       "4     NaN     19      20.0         Индикация  "
      ]
     },
     "execution_count": 11,
     "metadata": {},
     "output_type": "execute_result"
    }
   ],
   "source": [
    "d2 = pd.read_csv(os.path.join( INPUT_ROOT, 'dataset2.csv'), index_col=0)\n",
    "print(d2.shape)\n",
    "d2.head()"
   ]
  },
  {
   "cell_type": "markdown",
   "metadata": {},
   "source": [
    "## Совместные просмотры"
   ]
  },
  {
   "cell_type": "code",
   "execution_count": 83,
   "metadata": {},
   "outputs": [
    {
     "name": "stdout",
     "output_type": "stream",
     "text": [
      "(800000, 2)\n"
     ]
    },
    {
     "data": {
      "text/html": [
       "<div>\n",
       "<style>\n",
       "    .dataframe thead tr:only-child th {\n",
       "        text-align: right;\n",
       "    }\n",
       "\n",
       "    .dataframe thead th {\n",
       "        text-align: left;\n",
       "    }\n",
       "\n",
       "    .dataframe tbody tr th {\n",
       "        vertical-align: top;\n",
       "    }\n",
       "</style>\n",
       "<table border=\"1\" class=\"dataframe\">\n",
       "  <thead>\n",
       "    <tr style=\"text-align: right;\">\n",
       "      <th></th>\n",
       "      <th>CUST_ID</th>\n",
       "      <th>PRODUCT</th>\n",
       "    </tr>\n",
       "    <tr>\n",
       "      <th></th>\n",
       "      <th></th>\n",
       "      <th></th>\n",
       "    </tr>\n",
       "  </thead>\n",
       "  <tbody>\n",
       "    <tr>\n",
       "      <th>1</th>\n",
       "      <td>227169</td>\n",
       "      <td>30026482</td>\n",
       "    </tr>\n",
       "    <tr>\n",
       "      <th>2</th>\n",
       "      <td>34439</td>\n",
       "      <td>10008363</td>\n",
       "    </tr>\n",
       "    <tr>\n",
       "      <th>3</th>\n",
       "      <td>40291</td>\n",
       "      <td>10011711</td>\n",
       "    </tr>\n",
       "    <tr>\n",
       "      <th>4</th>\n",
       "      <td>77272</td>\n",
       "      <td>20039053</td>\n",
       "    </tr>\n",
       "    <tr>\n",
       "      <th>5</th>\n",
       "      <td>92233</td>\n",
       "      <td>30027136</td>\n",
       "    </tr>\n",
       "  </tbody>\n",
       "</table>\n",
       "</div>"
      ],
      "text/plain": [
       "        CUST_ID   PRODUCT\n",
       "                         \n",
       "1        227169  30026482\n",
       "2         34439  10008363\n",
       "3         40291  10011711\n",
       "4         77272  20039053\n",
       "5         92233  30027136"
      ]
     },
     "execution_count": 83,
     "metadata": {},
     "output_type": "execute_result"
    }
   ],
   "source": [
    "views = pd.read_csv(os.path.join( INPUT_ROOT, 'views.csv'), index_col=0, sep = ';')\n",
    "print(views.shape)\n",
    "views.head()"
   ]
  },
  {
   "cell_type": "code",
   "execution_count": 84,
   "metadata": {},
   "outputs": [
    {
     "name": "stdout",
     "output_type": "stream",
     "text": [
      "295284 6589\n"
     ]
    }
   ],
   "source": [
    "print(views.CUST_ID.nunique(), views.PRODUCT.nunique())"
   ]
  },
  {
   "cell_type": "markdown",
   "metadata": {},
   "source": [
    "## Сравнения"
   ]
  },
  {
   "cell_type": "code",
   "execution_count": 78,
   "metadata": {},
   "outputs": [
    {
     "name": "stdout",
     "output_type": "stream",
     "text": [
      "(425476, 2)\n"
     ]
    },
    {
     "data": {
      "text/html": [
       "<div>\n",
       "<style>\n",
       "    .dataframe thead tr:only-child th {\n",
       "        text-align: right;\n",
       "    }\n",
       "\n",
       "    .dataframe thead th {\n",
       "        text-align: left;\n",
       "    }\n",
       "\n",
       "    .dataframe tbody tr th {\n",
       "        vertical-align: top;\n",
       "    }\n",
       "</style>\n",
       "<table border=\"1\" class=\"dataframe\">\n",
       "  <thead>\n",
       "    <tr style=\"text-align: right;\">\n",
       "      <th></th>\n",
       "      <th>CUST_ID</th>\n",
       "      <th>PRODUCT</th>\n",
       "    </tr>\n",
       "    <tr>\n",
       "      <th></th>\n",
       "      <th></th>\n",
       "      <th></th>\n",
       "    </tr>\n",
       "  </thead>\n",
       "  <tbody>\n",
       "    <tr>\n",
       "      <th>1</th>\n",
       "      <td>1</td>\n",
       "      <td>30027405</td>\n",
       "    </tr>\n",
       "    <tr>\n",
       "      <th>2</th>\n",
       "      <td>1</td>\n",
       "      <td>30027770</td>\n",
       "    </tr>\n",
       "    <tr>\n",
       "      <th>3</th>\n",
       "      <td>2</td>\n",
       "      <td>30026138</td>\n",
       "    </tr>\n",
       "    <tr>\n",
       "      <th>4</th>\n",
       "      <td>3</td>\n",
       "      <td>20037301</td>\n",
       "    </tr>\n",
       "    <tr>\n",
       "      <th>5</th>\n",
       "      <td>4</td>\n",
       "      <td>10010470</td>\n",
       "    </tr>\n",
       "  </tbody>\n",
       "</table>\n",
       "</div>"
      ],
      "text/plain": [
       "        CUST_ID   PRODUCT\n",
       "                         \n",
       "1             1  30027405\n",
       "2             1  30027770\n",
       "3             2  30026138\n",
       "4             3  20037301\n",
       "5             4  10010470"
      ]
     },
     "execution_count": 78,
     "metadata": {},
     "output_type": "execute_result"
    }
   ],
   "source": [
    "comp = pd.read_csv(os.path.join( INPUT_ROOT, 'compare_v3.csv'), index_col=0, sep = ';')\n",
    "print(comp.shape)\n",
    "comp.head()"
   ]
  },
  {
   "cell_type": "code",
   "execution_count": 79,
   "metadata": {},
   "outputs": [
    {
     "name": "stdout",
     "output_type": "stream",
     "text": [
      "167823 3782\n"
     ]
    }
   ],
   "source": [
    "print(comp.CUST_ID.nunique(), comp.PRODUCT.nunique())"
   ]
  },
  {
   "cell_type": "markdown",
   "metadata": {
    "collapsed": true
   },
   "source": [
    "## Добавления в корзину"
   ]
  },
  {
   "cell_type": "code",
   "execution_count": 74,
   "metadata": {},
   "outputs": [
    {
     "name": "stdout",
     "output_type": "stream",
     "text": [
      "(58753, 2)\n"
     ]
    },
    {
     "data": {
      "text/html": [
       "<div>\n",
       "<style>\n",
       "    .dataframe thead tr:only-child th {\n",
       "        text-align: right;\n",
       "    }\n",
       "\n",
       "    .dataframe thead th {\n",
       "        text-align: left;\n",
       "    }\n",
       "\n",
       "    .dataframe tbody tr th {\n",
       "        vertical-align: top;\n",
       "    }\n",
       "</style>\n",
       "<table border=\"1\" class=\"dataframe\">\n",
       "  <thead>\n",
       "    <tr style=\"text-align: right;\">\n",
       "      <th></th>\n",
       "      <th>CUST_ID</th>\n",
       "      <th>PRODUCT_ID</th>\n",
       "    </tr>\n",
       "  </thead>\n",
       "  <tbody>\n",
       "    <tr>\n",
       "      <th>0</th>\n",
       "      <td>3</td>\n",
       "      <td>20037301</td>\n",
       "    </tr>\n",
       "    <tr>\n",
       "      <th>1</th>\n",
       "      <td>3</td>\n",
       "      <td>20031950</td>\n",
       "    </tr>\n",
       "    <tr>\n",
       "      <th>2</th>\n",
       "      <td>3</td>\n",
       "      <td>20030198</td>\n",
       "    </tr>\n",
       "    <tr>\n",
       "      <th>3</th>\n",
       "      <td>9</td>\n",
       "      <td>30026213</td>\n",
       "    </tr>\n",
       "    <tr>\n",
       "      <th>4</th>\n",
       "      <td>9</td>\n",
       "      <td>30027983</td>\n",
       "    </tr>\n",
       "  </tbody>\n",
       "</table>\n",
       "</div>"
      ],
      "text/plain": [
       "   CUST_ID  PRODUCT_ID\n",
       "0        3    20037301\n",
       "1        3    20031950\n",
       "2        3    20030198\n",
       "3        9    30026213\n",
       "4        9    30027983"
      ]
     },
     "execution_count": 74,
     "metadata": {},
     "output_type": "execute_result"
    }
   ],
   "source": [
    "cart = pd.read_csv(os.path.join( INPUT_ROOT, 'carts_for_compare.csv'), sep = ';')\n",
    "print(cart.shape)\n",
    "cart.head()"
   ]
  },
  {
   "cell_type": "code",
   "execution_count": 76,
   "metadata": {},
   "outputs": [
    {
     "data": {
      "text/plain": [
       "count    34303.000000\n",
       "mean         1.712766\n",
       "std          1.632947\n",
       "min          1.000000\n",
       "25%          1.000000\n",
       "50%          1.000000\n",
       "75%          2.000000\n",
       "max         94.000000\n",
       "Name: CUST_ID, dtype: float64"
      ]
     },
     "execution_count": 76,
     "metadata": {},
     "output_type": "execute_result"
    }
   ],
   "source": [
    "cart.CUST_ID.value_counts().describe()"
   ]
  },
  {
   "cell_type": "markdown",
   "metadata": {},
   "source": [
    "В comp и cart одни и те же пользователи, а во views - другие"
   ]
  },
  {
   "cell_type": "code",
   "execution_count": 81,
   "metadata": {},
   "outputs": [
    {
     "data": {
      "text/plain": [
       "<matplotlib.axes._subplots.AxesSubplot at 0x254449bd4a8>"
      ]
     },
     "execution_count": 81,
     "metadata": {},
     "output_type": "execute_result"
    },
    {
     "data": {
      "image/png": "[encoded data removed]",
      "text/plain": [
       "<matplotlib.figure.Figure at 0x254449ae320>"
      ]
     },
     "metadata": {},
     "output_type": "display_data"
    }
   ],
   "source": [
    "comp.CUST_ID.hist()"
   ]
  },
  {
   "cell_type": "code",
   "execution_count": 82,
   "metadata": {},
   "outputs": [
    {
     "data": {
      "text/plain": [
       "<matplotlib.axes._subplots.AxesSubplot at 0x254448f20f0>"
      ]
     },
     "execution_count": 82,
     "metadata": {},
     "output_type": "execute_result"
    },
    {
     "data": {
      "image/png": "[encoded data removed]",
      "text/plain": [
       "<matplotlib.figure.Figure at 0x254448cf2b0>"
      ]
     },
     "metadata": {},
     "output_type": "display_data"
    }
   ],
   "source": [
    "cart.CUST_ID.hist()"
   ]
  },
  {
   "cell_type": "code",
   "execution_count": 85,
   "metadata": {},
   "outputs": [
    {
     "data": {
      "text/plain": [
       "<matplotlib.axes._subplots.AxesSubplot at 0x254448c83c8>"
      ]
     },
     "execution_count": 85,
     "metadata": {},
     "output_type": "execute_result"
    },
    {
     "data": {
      "image/png": "[encoded data removed]",
      "text/plain": [
       "<matplotlib.figure.Figure at 0x254447de3c8>"
      ]
     },
     "metadata": {},
     "output_type": "display_data"
    }
   ],
   "source": [
    "views.CUST_ID.hist()"
   ]
  },
  {
   "cell_type": "code",
   "execution_count": 92,
   "metadata": {},
   "outputs": [
    {
     "data": {
      "text/plain": [
       "<matplotlib.axes._subplots.AxesSubplot at 0x25444697588>"
      ]
     },
     "execution_count": 92,
     "metadata": {},
     "output_type": "execute_result"
    },
    {
     "data": {
      "image/png": "[encoded data removed]",
      "text/plain": [
       "<matplotlib.figure.Figure at 0x25444b70eb8>"
      ]
     },
     "metadata": {},
     "output_type": "display_data"
    }
   ],
   "source": [
    "comp.PRODUCT.hist()"
   ]
  },
  {
   "cell_type": "code",
   "execution_count": 93,
   "metadata": {},
   "outputs": [
    {
     "data": {
      "text/plain": [
       "<matplotlib.axes._subplots.AxesSubplot at 0x2545c656160>"
      ]
     },
     "execution_count": 93,
     "metadata": {},
     "output_type": "execute_result"
    },
    {
     "data": {
      "image/png": "[encoded data removed]",
      "text/plain": [
       "<matplotlib.figure.Figure at 0x2545c66bfd0>"
      ]
     },
     "metadata": {},
     "output_type": "display_data"
    }
   ],
   "source": [
    "cart.PRODUCT_ID.hist()"
   ]
  },
  {
   "cell_type": "code",
   "execution_count": 96,
   "metadata": {},
   "outputs": [
    {
     "data": {
      "text/plain": [
       "Index(['CUST_ID', 'PRODUCT_ID'], dtype='object')"
      ]
     },
     "execution_count": 96,
     "metadata": {},
     "output_type": "execute_result"
    }
   ],
   "source": [
    "cart.columns"
   ]
  },
  {
   "cell_type": "code",
   "execution_count": 105,
   "metadata": {},
   "outputs": [
    {
     "data": {
      "text/plain": [
       "(425476, 2)"
      ]
     },
     "execution_count": 105,
     "metadata": {},
     "output_type": "execute_result"
    }
   ],
   "source": [
    "comp.shape"
   ]
  },
  {
   "cell_type": "code",
   "execution_count": 116,
   "metadata": {},
   "outputs": [
    {
     "name": "stdout",
     "output_type": "stream",
     "text": [
      "(425476, 3)\n"
     ]
    }
   ],
   "source": [
    "comp_outcome = comp.merge(cart, how = 'left', left_on = ['CUST_ID', 'PRODUCT'], right_on= ['CUST_ID', 'PRODUCT_ID'])\n",
    "print(comp_outcome.shape)"
   ]
  },
  {
   "cell_type": "code",
   "execution_count": 117,
   "metadata": {},
   "outputs": [
    {
     "data": {
      "text/html": [
       "<div>\n",
       "<style>\n",
       "    .dataframe thead tr:only-child th {\n",
       "        text-align: right;\n",
       "    }\n",
       "\n",
       "    .dataframe thead th {\n",
       "        text-align: left;\n",
       "    }\n",
       "\n",
       "    .dataframe tbody tr th {\n",
       "        vertical-align: top;\n",
       "    }\n",
       "</style>\n",
       "<table border=\"1\" class=\"dataframe\">\n",
       "  <thead>\n",
       "    <tr style=\"text-align: right;\">\n",
       "      <th></th>\n",
       "      <th>CUST_ID</th>\n",
       "      <th>PRODUCT</th>\n",
       "      <th>PRODUCT_ID</th>\n",
       "    </tr>\n",
       "  </thead>\n",
       "  <tbody>\n",
       "    <tr>\n",
       "      <th>0</th>\n",
       "      <td>1</td>\n",
       "      <td>30027405</td>\n",
       "      <td>NaN</td>\n",
       "    </tr>\n",
       "    <tr>\n",
       "      <th>1</th>\n",
       "      <td>1</td>\n",
       "      <td>30027770</td>\n",
       "      <td>NaN</td>\n",
       "    </tr>\n",
       "    <tr>\n",
       "      <th>2</th>\n",
       "      <td>2</td>\n",
       "      <td>30026138</td>\n",
       "      <td>NaN</td>\n",
       "    </tr>\n",
       "    <tr>\n",
       "      <th>3</th>\n",
       "      <td>3</td>\n",
       "      <td>20037301</td>\n",
       "      <td>20037301.0</td>\n",
       "    </tr>\n",
       "    <tr>\n",
       "      <th>4</th>\n",
       "      <td>4</td>\n",
       "      <td>10010470</td>\n",
       "      <td>NaN</td>\n",
       "    </tr>\n",
       "  </tbody>\n",
       "</table>\n",
       "</div>"
      ],
      "text/plain": [
       "   CUST_ID   PRODUCT  PRODUCT_ID\n",
       "0        1  30027405         NaN\n",
       "1        1  30027770         NaN\n",
       "2        2  30026138         NaN\n",
       "3        3  20037301  20037301.0\n",
       "4        4  10010470         NaN"
      ]
     },
     "execution_count": 117,
     "metadata": {},
     "output_type": "execute_result"
    }
   ],
   "source": [
    "comp_outcome.head()"
   ]
  },
  {
   "cell_type": "markdown",
   "metadata": {},
   "source": [
    "Конверсия сравнений в покупки - 7%, очень мнго "
   ]
  },
  {
   "cell_type": "code",
   "execution_count": 119,
   "metadata": {},
   "outputs": [
    {
     "data": {
      "text/plain": [
       "0.070438755652492732"
      ]
     },
     "execution_count": 119,
     "metadata": {},
     "output_type": "execute_result"
    }
   ],
   "source": [
    "comp_outcome.PRODUCT_ID.notnull().mean()"
   ]
  },
  {
   "cell_type": "markdown",
   "metadata": {},
   "source": [
    "Боль: примерно половина товаров из корзины не была в сравнении. Ну или это норм?"
   ]
  },
  {
   "cell_type": "code",
   "execution_count": 125,
   "metadata": {},
   "outputs": [
    {
     "data": {
      "text/plain": [
       "0.51010161183258729"
      ]
     },
     "execution_count": 125,
     "metadata": {},
     "output_type": "execute_result"
    }
   ],
   "source": [
    "comp_outcome.PRODUCT_ID.notnull().sum()/cart.shape[0]"
   ]
  },
  {
   "cell_type": "code",
   "execution_count": null,
   "metadata": {
    "collapsed": true
   },
   "outputs": [],
   "source": []
  }
 ],
 "metadata": {
  "kernelspec": {
   "display_name": "Python 3",
   "language": "python",
   "name": "python3"
  },
  "language_info": {
   "codemirror_mode": {
    "name": "ipython",
    "version": 3
   },
   "file_extension": ".py",
   "mimetype": "text/x-python",
   "name": "python",
   "nbconvert_exporter": "python",
   "pygments_lexer": "ipython3",
   "version": "3.6.1"
  }
 },
 "nbformat": 4,
 "nbformat_minor": 2
}
