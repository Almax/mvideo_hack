{
 "cells": [
  {
   "cell_type": "code",
   "execution_count": 6,
   "metadata": {
    "collapsed": true
   },
   "outputs": [],
   "source": [
    "import os"
   ]
  },
  {
   "cell_type": "code",
   "execution_count": 51,
   "metadata": {
    "collapsed": true
   },
   "outputs": [],
   "source": []
  },
  {
   "cell_type": "code",
   "execution_count": 52,
   "metadata": {},
   "outputs": [
    {
     "name": "stdout",
     "output_type": "stream",
     "text": [
      "дерево — 0.8678081035614014\n",
      "деревце 0.8677246570587158\n",
      "деревцо 0.8552745580673218\n",
      "буковое 0.8502448797225952\n",
      "дерево, — 0.8466763496398926\n",
      "дерево… 0.8452416062355042\n",
      "срубленное 0.8443729281425476\n",
      "росшее 0.8330211639404297\n",
      "спиленное 0.826280951499939\n",
      "развесистое 0.8261986970901489\n"
     ]
    }
   ],
   "source": [
    "import gensim\n",
    "\n",
    "w2v_fpath = os.path.join(r\"C:\\Users\\ddale\\Downloads\\mv\", \"all.norm-sz100-w10-cb0-it1-min100.w2v\")\n",
    "w2v = gensim.models.KeyedVectors.load_word2vec_format(w2v_fpath, binary=True, unicode_errors='ignore')\n",
    "w2v.init_sims(replace=True)\n",
    "for word, score in w2v.most_similar(u\"дерево\"):\n",
    "    print(word, score)"
   ]
  },
  {
   "cell_type": "code",
   "execution_count": 15,
   "metadata": {},
   "outputs": [
    {
     "name": "stdout",
     "output_type": "stream",
     "text": [
      "телик 0.9340465068817139\n",
      "телевизор 0.871051549911499\n",
      "телика 0.8553884029388428\n",
      "телека 0.8482096195220947\n",
      "видак 0.8433030843734741\n",
      "видик 0.820359468460083\n",
      "мультики 0.8082671761512756\n",
      "телевизор… 0.8080072402954102\n",
      "видюшник 0.7987151741981506\n",
      "видиком 0.7921357750892639\n"
     ]
    }
   ],
   "source": [
    "for word, score in w2v.most_similar(\"телек\"):\n",
    "    print(word, score)"
   ]
  },
  {
   "cell_type": "code",
   "execution_count": 59,
   "metadata": {},
   "outputs": [
    {
     "name": "stdout",
     "output_type": "stream",
     "text": [
      "миллиона 0.9316937327384949\n",
      "тысячи 0.9308286309242249\n",
      "полмиллиона 0.9096906781196594\n",
      "полумиллиона 0.9095279574394226\n",
      "семисот 0.903110921382904\n",
      "миллионов 0.9025305509567261\n",
      "трехсот 0.893735945224762\n",
      "шестисот 0.8937070965766907\n",
      "пятисот 0.8917948603630066\n",
      "восьмисот 0.891154944896698\n"
     ]
    }
   ],
   "source": [
    "for word, score in w2v.most_similar(\"тысяч\"):\n",
    "    print(word, score)"
   ]
  },
  {
   "cell_type": "code",
   "execution_count": 22,
   "metadata": {},
   "outputs": [],
   "source": [
    "w2v_fpath = os.path.join(r\"C:\\Users\\ddale\\Downloads\\mv\", \"ruwikiruscorpora_0_300_20.bin\")\n",
    "import gensim\n",
    "w2v = gensim.models.KeyedVectors.load_word2vec_format(w2v_fpath, binary=True, unicode_errors='ignore')\n",
    "w2v.init_sims(replace=True)"
   ]
  },
  {
   "cell_type": "code",
   "execution_count": 49,
   "metadata": {},
   "outputs": [
    {
     "name": "stdout",
     "output_type": "stream",
     "text": [
      "герцог_NOUN 0.7371540069580078\n",
      "монарх_NOUN 0.710021436214447\n",
      "император_NOUN 0.6928677558898926\n",
      "правитель_NOUN 0.6663693785667419\n",
      "королева_NOUN 0.6536982655525208\n",
      "принц_NOUN 0.6446846723556519\n",
      "королевский_ADJ 0.6295018792152405\n",
      "султан_NOUN 0.6118876934051514\n",
      "королевство_NOUN 0.6106710433959961\n",
      "генрих_NOUN 0.5956919193267822\n"
     ]
    }
   ],
   "source": [
    "for word, score in w2v.most_similar(\"король_NOUN\"):\n",
    "    print(word, score)"
   ]
  },
  {
   "cell_type": "code",
   "execution_count": null,
   "metadata": {
    "collapsed": true
   },
   "outputs": [],
   "source": []
  }
 ],
 "metadata": {
  "kernelspec": {
   "display_name": "Python 3",
   "language": "python",
   "name": "python3"
  },
  "language_info": {
   "codemirror_mode": {
    "name": "ipython",
    "version": 3
   },
   "file_extension": ".py",
   "mimetype": "text/x-python",
   "name": "python",
   "nbconvert_exporter": "python",
   "pygments_lexer": "ipython3",
   "version": "3.6.1"
  }
 },
 "nbformat": 4,
 "nbformat_minor": 2
}
