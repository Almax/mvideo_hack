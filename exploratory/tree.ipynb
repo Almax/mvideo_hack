{
 "cells": [
  {
   "cell_type": "code",
   "execution_count": 2,
   "metadata": {},
   "outputs": [],
   "source": [
    "import treetaggerwrapper\n",
    "#1) build a TreeTagger wrapper:\n",
    "tagger = treetaggerwrapper.TreeTagger(TAGLANG='ru')"
   ]
  },
  {
   "cell_type": "code",
   "execution_count": 6,
   "metadata": {},
   "outputs": [
    {
     "data": {
      "text/plain": [
       "['Карл\\tNpmsny\\tкарл',\n",
       " 'у\\tSp-g\\tу',\n",
       " 'Клары\\tNpfsgy\\tклара',\n",
       " 'украл\\tVmis-sma-p\\tукрасть',\n",
       " 'псевдокораллы\\tNcfsgn\\tпсевдокораллы']"
      ]
     },
     "execution_count": 6,
     "metadata": {},
     "output_type": "execute_result"
    }
   ],
   "source": [
    "tags = tagger.tag_text(\"Карл у Клары украл псевдокораллы\")\n",
    "tags"
   ]
  },
  {
   "cell_type": "code",
   "execution_count": 7,
   "metadata": {},
   "outputs": [
    {
     "data": {
      "text/plain": [
       "[Tag(word='Карл', pos='Npmsny', lemma='карл'),\n",
       " Tag(word='у', pos='Sp-g', lemma='у'),\n",
       " Tag(word='Клары', pos='Npfsgy', lemma='клара'),\n",
       " Tag(word='украл', pos='Vmis-sma-p', lemma='украсть'),\n",
       " Tag(word='псевдокораллы', pos='Ncfsgn', lemma='псевдокораллы')]"
      ]
     },
     "execution_count": 7,
     "metadata": {},
     "output_type": "execute_result"
    }
   ],
   "source": [
    "tags2 = treetaggerwrapper.make_tags(tags)\n",
    "tags2"
   ]
  },
  {
   "cell_type": "code",
   "execution_count": null,
   "metadata": {
    "collapsed": true
   },
   "outputs": [],
   "source": []
  }
 ],
 "metadata": {
  "kernelspec": {
   "display_name": "Python 3",
   "language": "python",
   "name": "python3"
  },
  "language_info": {
   "codemirror_mode": {
    "name": "ipython",
    "version": 3
   },
   "file_extension": ".py",
   "mimetype": "text/x-python",
   "name": "python",
   "nbconvert_exporter": "python",
   "pygments_lexer": "ipython3",
   "version": "3.6.1"
  }
 },
 "nbformat": 4,
 "nbformat_minor": 2
}
