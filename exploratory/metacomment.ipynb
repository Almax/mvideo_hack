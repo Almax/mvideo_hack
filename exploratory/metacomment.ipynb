{
 "cells": [
  {
   "cell_type": "code",
   "execution_count": null,
   "metadata": {
    "collapsed": true
   },
   "outputs": [],
   "source": []
  },
  {
   "cell_type": "markdown",
   "metadata": {},
   "source": [
    "## Конфигурация "
   ]
  },
  {
   "cell_type": "code",
   "execution_count": 1,
   "metadata": {
    "collapsed": true
   },
   "outputs": [],
   "source": [
    "import numpy as np\n",
    "import pandas as pd\n",
    "import matplotlib.pyplot as plt\n",
    "%matplotlib inline\n",
    "import os\n",
    "\n",
    "import pymorphy2\n",
    "import nltk\n",
    "from tqdm import tqdm\n",
    "\n",
    "import sys\n",
    "def add_sys_path(p):\n",
    "    if p not in sys.path:\n",
    "        sys.path.append(p)\n",
    "add_sys_path(os.path.dirname(os.getcwd()))\n",
    "\n",
    "from test_problem import util"
   ]
  },
  {
   "cell_type": "code",
   "execution_count": 2,
   "metadata": {
    "collapsed": true
   },
   "outputs": [],
   "source": [
    "INPUT_ROOT = os.path.join('..','INPUT')"
   ]
  },
  {
   "cell_type": "markdown",
   "metadata": {},
   "source": [
    "## Загрузка, предобработка отзывов"
   ]
  },
  {
   "cell_type": "code",
   "execution_count": 3,
   "metadata": {},
   "outputs": [
    {
     "name": "stdout",
     "output_type": "stream",
     "text": [
      "(270941, 15)\n"
     ]
    },
    {
     "data": {
      "text/html": [
       "<div>\n",
       "<style>\n",
       "    .dataframe thead tr:only-child th {\n",
       "        text-align: right;\n",
       "    }\n",
       "\n",
       "    .dataframe thead th {\n",
       "        text-align: left;\n",
       "    }\n",
       "\n",
       "    .dataframe tbody tr th {\n",
       "        vertical-align: top;\n",
       "    }\n",
       "</style>\n",
       "<table border=\"1\" class=\"dataframe\">\n",
       "  <thead>\n",
       "    <tr style=\"text-align: right;\">\n",
       "      <th></th>\n",
       "      <th>PRODUCT</th>\n",
       "      <th>CATEGORY_ID</th>\n",
       "      <th>BRAND_ID</th>\n",
       "      <th>CATEGORY_NAME</th>\n",
       "      <th>BRAND_NAME</th>\n",
       "      <th>TYPE</th>\n",
       "      <th>SUBJECT</th>\n",
       "      <th>TEXT</th>\n",
       "      <th>POSTED_DATE</th>\n",
       "      <th>RATING</th>\n",
       "      <th>BENEFITS</th>\n",
       "      <th>DRAWBACKS</th>\n",
       "      <th>RECOMMENDED</th>\n",
       "      <th>LIKES_COUNT</th>\n",
       "      <th>DISLIKES_COUNT</th>\n",
       "    </tr>\n",
       "  </thead>\n",
       "  <tbody>\n",
       "    <tr>\n",
       "      <th>0</th>\n",
       "      <td>30024724</td>\n",
       "      <td>2060202</td>\n",
       "      <td>1900</td>\n",
       "      <td>PRINTERS LASER</td>\n",
       "      <td>Kyocera</td>\n",
       "      <td>REVIEW</td>\n",
       "      <td>NaN</td>\n",
       "      <td>Что особенно ценно - при профилактике принтера...</td>\n",
       "      <td>23.10.16 22:26:00</td>\n",
       "      <td>5.0</td>\n",
       "      <td>хорошая скорость печати, двусторонняя печать, ...</td>\n",
       "      <td>Рядом \"на стол\" не поставишь, место много зани...</td>\n",
       "      <td>1.0</td>\n",
       "      <td>2.0</td>\n",
       "      <td>0.0</td>\n",
       "    </tr>\n",
       "    <tr>\n",
       "      <th>1</th>\n",
       "      <td>30024724</td>\n",
       "      <td>2060202</td>\n",
       "      <td>1900</td>\n",
       "      <td>PRINTERS LASER</td>\n",
       "      <td>Kyocera</td>\n",
       "      <td>REVIEW</td>\n",
       "      <td>NaN</td>\n",
       "      <td>Он у нас три месяца в офисе стоит уже - большо...</td>\n",
       "      <td>17.04.16 11:17:42</td>\n",
       "      <td>5.0</td>\n",
       "      <td>NaN</td>\n",
       "      <td>NaN</td>\n",
       "      <td>NaN</td>\n",
       "      <td>0.0</td>\n",
       "      <td>2.0</td>\n",
       "    </tr>\n",
       "    <tr>\n",
       "      <th>2</th>\n",
       "      <td>30024725</td>\n",
       "      <td>2060202</td>\n",
       "      <td>1900</td>\n",
       "      <td>PRINTERS LASER</td>\n",
       "      <td>Kyocera</td>\n",
       "      <td>REVIEW</td>\n",
       "      <td>NaN</td>\n",
       "      <td>Просто небо и земля с тем принтером, который у...</td>\n",
       "      <td>15.04.16 20:22:47</td>\n",
       "      <td>4.0</td>\n",
       "      <td>NaN</td>\n",
       "      <td>NaN</td>\n",
       "      <td>NaN</td>\n",
       "      <td>0.0</td>\n",
       "      <td>1.0</td>\n",
       "    </tr>\n",
       "  </tbody>\n",
       "</table>\n",
       "</div>"
      ],
      "text/plain": [
       "    PRODUCT  CATEGORY_ID  BRAND_ID  \\\n",
       "0  30024724      2060202      1900   \n",
       "1  30024724      2060202      1900   \n",
       "2  30024725      2060202      1900   \n",
       "\n",
       "                                CATEGORY_NAME            BRAND_NAME    TYPE  \\\n",
       "0  PRINTERS LASER                              Kyocera               REVIEW   \n",
       "1  PRINTERS LASER                              Kyocera               REVIEW   \n",
       "2  PRINTERS LASER                              Kyocera               REVIEW   \n",
       "\n",
       "  SUBJECT                                               TEXT  \\\n",
       "0     NaN  Что особенно ценно - при профилактике принтера...   \n",
       "1     NaN  Он у нас три месяца в офисе стоит уже - большо...   \n",
       "2     NaN  Просто небо и земля с тем принтером, который у...   \n",
       "\n",
       "         POSTED_DATE  RATING  \\\n",
       "0  23.10.16 22:26:00     5.0   \n",
       "1  17.04.16 11:17:42     5.0   \n",
       "2  15.04.16 20:22:47     4.0   \n",
       "\n",
       "                                            BENEFITS  \\\n",
       "0  хорошая скорость печати, двусторонняя печать, ...   \n",
       "1                                                NaN   \n",
       "2                                                NaN   \n",
       "\n",
       "                                           DRAWBACKS  RECOMMENDED  \\\n",
       "0  Рядом \"на стол\" не поставишь, место много зани...          1.0   \n",
       "1                                                NaN          NaN   \n",
       "2                                                NaN          NaN   \n",
       "\n",
       "   LIKES_COUNT  DISLIKES_COUNT  \n",
       "0          2.0             0.0  \n",
       "1          0.0             2.0  \n",
       "2          0.0             1.0  "
      ]
     },
     "execution_count": 3,
     "metadata": {},
     "output_type": "execute_result"
    }
   ],
   "source": [
    "d1 = pd.read_csv(os.path.join( INPUT_ROOT, 'dataset1.csv'), index_col=0)\n",
    "print(d1.shape)\n",
    "d1.head(3)"
   ]
  },
  {
   "cell_type": "markdown",
   "metadata": {},
   "source": [
    "Запускаю лемматизацию всех отзывов. "
   ]
  },
  {
   "cell_type": "code",
   "execution_count": 5,
   "metadata": {},
   "outputs": [
    {
     "name": "stderr",
     "output_type": "stream",
     "text": [
      "100%|█████████████████████████████████████████████████████████████████████████| 270941/270941 [08:57<00:00, 504.36it/s]\n"
     ]
    }
   ],
   "source": [
    "l = []\n",
    "for text in tqdm(d1.TEXT):\n",
    "    l.append(' '.join(util.lemmatize(util.tokenize(util.replace_smiles(text)))))\n",
    "d1['TEXT_prepared'] = l"
   ]
  },
  {
   "cell_type": "code",
   "execution_count": 151,
   "metadata": {},
   "outputs": [
    {
     "name": "stderr",
     "output_type": "stream",
     "text": [
      "100%|████████████████████████████████████████████████████████████████████████| 270941/270941 [00:49<00:00, 5467.26it/s]\n"
     ]
    }
   ],
   "source": [
    "l = []\n",
    "for text in tqdm(d1.SUBJECT.fillna('')):\n",
    "    l.append(' '.join(util.lemmatize(util.tokenize(util.replace_smiles(text)))))\n",
    "d1['SUBJECT_prepared'] = l"
   ]
  },
  {
   "cell_type": "code",
   "execution_count": 152,
   "metadata": {},
   "outputs": [
    {
     "name": "stderr",
     "output_type": "stream",
     "text": [
      "100%|████████████████████████████████████████████████████████████████████████| 270941/270941 [00:36<00:00, 7499.66it/s]\n"
     ]
    }
   ],
   "source": [
    "l = []\n",
    "for text in tqdm(d1.BENEFITS.fillna('')):\n",
    "    l.append(' '.join(util.lemmatize(util.tokenize(util.replace_smiles(text)))))\n",
    "d1['BENEFITS_prepared'] = l"
   ]
  },
  {
   "cell_type": "code",
   "execution_count": 153,
   "metadata": {},
   "outputs": [
    {
     "name": "stderr",
     "output_type": "stream",
     "text": [
      "100%|████████████████████████████████████████████████████████████████████████| 270941/270941 [00:29<00:00, 9248.25it/s]\n"
     ]
    }
   ],
   "source": [
    "l = []\n",
    "for text in tqdm(d1.DRAWBACKS.fillna('')):\n",
    "    l.append(' '.join(util.lemmatize(util.tokenize(util.replace_smiles(text)))))\n",
    "d1['DRAWBACKS_prepared'] = l"
   ]
  },
  {
   "cell_type": "code",
   "execution_count": 212,
   "metadata": {
    "collapsed": true
   },
   "outputs": [],
   "source": [
    "prod2categ = d1.CATEGORY_ID.groupby(d1.PRODUCT).aggregate(lambda x:x.value_counts().index[0])"
   ]
  },
  {
   "cell_type": "code",
   "execution_count": 210,
   "metadata": {
    "collapsed": true
   },
   "outputs": [],
   "source": [
    "categ2name = d1.CATEGORY_NAME.groupby(d1.CATEGORY_ID).aggregate(lambda x:x.value_counts().index[0])"
   ]
  },
  {
   "cell_type": "code",
   "execution_count": 10,
   "metadata": {},
   "outputs": [
    {
     "data": {
      "text/plain": [
       "{'BENEFITS': nan,\n",
       " 'DRAWBACKS': nan,\n",
       " 'RATING': 5.0,\n",
       " 'RECOMMENDED': nan,\n",
       " 'SUBJECT': 'Все нравится, диск качественный',\n",
       " 'TEXT': 'По мне так этот аппарат стоит своих денег, у него не только высокие скорости передачи и чтения файлов за счет 3.0 интерфейса, но еще и полная защита от всех возможных проблем с файлами, воды не боится, влаги тоже, как и ударов, тут вообще один из слоев упругий, падения амортизируются им. Памяти куча, хранилище из него отличное',\n",
       " 'TEXT_prepared': 'по я так этот аппарат стоить свой деньга , у он не только высокий скорость передача и чтение файл за счёт 3.0 интерфейс , но ещё и полный защита от весь возможный проблема с файл , вода не бояться , влага тоже , как и удар , тут вообще один из слой упругий , падение амортизироваться имя . память куча , хранилище из он отличный'}"
      ]
     },
     "execution_count": 10,
     "metadata": {},
     "output_type": "execute_result"
    }
   ],
   "source": [
    "d1[['SUBJECT','TEXT', 'BENEFITS','DRAWBACKS', 'RECOMMENDED', 'RATING', 'TEXT_prepared']].sample(1).squeeze().to_dict()"
   ]
  },
  {
   "cell_type": "code",
   "execution_count": 17,
   "metadata": {
    "collapsed": true
   },
   "outputs": [],
   "source": [
    "ps = '\\n***\\n'\n",
    "d1['total_text'] = (d1['SUBJECT'].fillna('') + ps + d1['TEXT'].fillna('') + ps + d1['BENEFITS'].fillna('') \n",
    "                    + ps + d1['DRAWBACKS'].fillna(''))"
   ]
  },
  {
   "cell_type": "code",
   "execution_count": 154,
   "metadata": {
    "collapsed": true
   },
   "outputs": [],
   "source": [
    "d1['total_text_prepared'] = (d1['SUBJECT_prepared'].fillna('') + ps + d1['TEXT_prepared'].fillna('') + ps \n",
    "                             + d1['BENEFITS_prepared'].fillna('') + ps + d1['DRAWBACKS_prepared'].fillna(''))"
   ]
  },
  {
   "cell_type": "code",
   "execution_count": 181,
   "metadata": {},
   "outputs": [
    {
     "name": "stdout",
     "output_type": "stream",
     "text": [
      "вопрос ?\n",
      "***\n",
      "народ , а он у я почему-то сам перезагружаться , только что купить , сказать , пожалуйста , так и должный быть , или это глюк в он какой-нибудь ? ? ? ?\n",
      "***\n",
      "\n",
      "***\n",
      "\n"
     ]
    }
   ],
   "source": [
    "print(d1['total_text_prepared'].sample(1).values[0])"
   ]
  },
  {
   "cell_type": "code",
   "execution_count": 182,
   "metadata": {},
   "outputs": [
    {
     "data": {
      "text/plain": [
       "(36475, 2)"
      ]
     },
     "execution_count": 182,
     "metadata": {},
     "output_type": "execute_result"
    }
   ],
   "source": [
    "rs = '\\n*******\\n'\n",
    "text_by_product = d1[['total_text', 'total_text_prepared']].groupby(d1['PRODUCT']).aggregate(lambda x : rs.join(x))\n",
    "text_by_product.shape"
   ]
  },
  {
   "cell_type": "code",
   "execution_count": 190,
   "metadata": {},
   "outputs": [
    {
     "name": "stdout",
     "output_type": "stream",
     "text": [
      "[ 'BEKO DIS 5831\\n***\\nПользуюсь 4 месяца. Покупали к рождению ребенка, чтобы облегчить себе жизнь. Да, современная бытовая техника позволяет вздохнуть с облегчением. Итак:\\n1) обычно пользуемся программой №7 (2часа), т.к. с ней очень хорошо промывается все,в том числе и бутылки для детского питания. Реже используем программу №5 (58 мин) - когда нет особо грязной или засохшей посуды.\\n2) Советую, чтоб потом не жаловаться на пятна, правильно настроить дозатор кондиционера.\\n3) После мойки советую машину открыть (или приоткрыть - если не собираетесь доставать посуду) минут на 5-10, посуда горячая, и так она вся обсохнет.\\n4) При мойке ночью  шумновато. Хотя днем нормально.\\n    Как она мое - это просто сказка. Такой наша посуда была только в день покупки. Руками так никогда не отмыть.Не машина - праздник.\\n***\\n\\n***\\n\\n*******\\nРекомендую!\\n***\\nОтличная машинка. Даже не ожидала, что так отлично будет отмывать посуду. Стаканы, тарелки, ложки, банки, сковородки - идеально чисто даже без порошка (забываю иногда положить). Главное правильно поставить режим и правильно разложить. Кастрюли немного плохо отстирывает, но я приловчилась потом их споласкивать - не трудно и не долго. Порошка на посуде после стирки не остается, посуда чистая, блестящая (говорят еще \"хрустит\") и сухая. Безумно счастлива. Рекомендую!\\n***\\n\\n***\\n'\n",
      " \"beko dis 5831\\n***\\nпользоваться 4 месяц . покупать к рождение ребёнок , чтобы облегчить себя жизнь . да , современный бытовой техника позволять вздохнуть с облегчение . итак : 1 ) обычно пользоваться программа №7 ( 2час ) , т.к . с она очень хорошо промываться весь , в тот число и бутылка для детский питание . реж использовать программа №5 ( 58 мина ) - когда нет особо грязный или засохнуть посуда . 2 ) советовать , чтоб потом не жаловаться на пятно , правильно настроить дозатор кондиционер . 3 ) после мойка советовать машина открыть ( или приоткрыть - если не собираться доставать посуда ) минута на 5-10 , посуда горячий , и так она весь обсохнуть . 4 ) при мойка ночью шумноватый . хотя днём нормальный . как она мой - это просто сказка . такой наш посуда быть только в день покупка . рука так никогда не отмыть.н машина - праздник .\\n***\\n\\n***\\n\\n*******\\nрекомендовать !\\n***\\nотличный машинка . даже не ожидать , что так отлично быть отмывать посуда . стакан , тарелка , ложка , банка , сковородка - идеально чисто даже без порошок ( забывать иногда положить ) . главный правильно поставить режим и правильно разложить . кастрюля немного плохо отстирывать , но я приловчиться потом они споласкивать - не трудно и не долго . порошок на посуда после стирка не оставаться , посуда чистый , блестящий ( говорят ещё `` хрустеть '' ) и сухой . безумно счастливый . рекомендовать !\\n***\\n\\n***\\n\"]\n"
     ]
    }
   ],
   "source": [
    "print(text_by_product.sample(1).values[0])"
   ]
  },
  {
   "cell_type": "code",
   "execution_count": 191,
   "metadata": {},
   "outputs": [
    {
     "data": {
      "text/plain": [
       "Index(['total_text', 'total_text_prepared'], dtype='object')"
      ]
     },
     "execution_count": 191,
     "metadata": {},
     "output_type": "execute_result"
    }
   ],
   "source": [
    "text_by_product.columns"
   ]
  },
  {
   "cell_type": "code",
   "execution_count": 251,
   "metadata": {
    "collapsed": true
   },
   "outputs": [],
   "source": [
    "def add_bigrams_to_text(text):\n",
    "    return ' '.join(util.add_bigrams(util.tokenize(text)))"
   ]
  },
  {
   "cell_type": "code",
   "execution_count": 256,
   "metadata": {},
   "outputs": [
    {
     "data": {
      "text/plain": [
       "Index(['total_text', 'total_text_prepared'], dtype='object')"
      ]
     },
     "execution_count": 256,
     "metadata": {},
     "output_type": "execute_result"
    }
   ],
   "source": [
    "text_by_product.columns"
   ]
  },
  {
   "cell_type": "code",
   "execution_count": 258,
   "metadata": {},
   "outputs": [],
   "source": [
    "text_by_product['text_bigram'] = text_by_product['total_text'].apply(add_bigrams_to_text)\n",
    "text_by_product['prep_bigram'] = text_by_product['total_text_prepared'].apply(add_bigrams_to_text)"
   ]
  },
  {
   "cell_type": "markdown",
   "metadata": {},
   "source": [
    "## Гипотеза 1: tf-idf "
   ]
  },
  {
   "cell_type": "markdown",
   "metadata": {},
   "source": [
    "Как отрабатывает на товаре vs все? Плохо"
   ]
  },
  {
   "cell_type": "code",
   "execution_count": 11,
   "metadata": {
    "collapsed": true
   },
   "outputs": [],
   "source": [
    "from sklearn.feature_extraction.text import TfidfVectorizer"
   ]
  },
  {
   "cell_type": "code",
   "execution_count": 60,
   "metadata": {
    "collapsed": true
   },
   "outputs": [],
   "source": [
    "vec = TfidfVectorizer(min_df = 3, max_df = 0.95)"
   ]
  },
  {
   "cell_type": "code",
   "execution_count": 192,
   "metadata": {},
   "outputs": [
    {
     "name": "stdout",
     "output_type": "stream",
     "text": [
      "50098\n"
     ]
    }
   ],
   "source": [
    "vec.fit(text_by_product['total_text_prepared'])\n",
    "print(len(vec.vocabulary_))"
   ]
  },
  {
   "cell_type": "code",
   "execution_count": null,
   "metadata": {
    "collapsed": true
   },
   "outputs": [],
   "source": []
  },
  {
   "cell_type": "code",
   "execution_count": null,
   "metadata": {
    "collapsed": true
   },
   "outputs": [],
   "source": [
    "categ_sample"
   ]
  },
  {
   "cell_type": "code",
   "execution_count": 265,
   "metadata": {
    "scrolled": true
   },
   "outputs": [
    {
     "name": "stdout",
     "output_type": "stream",
     "text": [
      "FAXES                                       is to small (2, 4)\n",
      "IONIZER                                     is to small (2, 4)\n",
      "DEHUMIDIFIER                                is to small (1, 4)\n",
      "OLED-TV 40\\\" - 55\\\"                         is to small (1, 4)\n",
      "ACCESSORIES FOR NINTENDO WII                is to small (1, 4)\n",
      "COMPACT PHOTOPRINTERS                       is to small (1, 4)\n",
      "OTHERS TELECOMMUNICATION PRODUCTS           is to small (1, 4)\n",
      "AUDIO/CD RECORDED                           is to small (3, 4)\n",
      "XEROX                                       is to small (3, 4)\n",
      "OTHERS TELECOMMUNICATIONS                   is to small (2, 4)\n",
      "PHONE ADDITIONAL DEVICES                    is to small (3, 4)\n",
      "ELECTRONIC DICTIONARIES                     is to small (1, 4)\n",
      "AUDIOBOOKS                                  is to small (3, 4)\n",
      "3D DIGITAL CAMERAS                          is to small (1, 4)\n",
      "NEW PLANNAME PHOTO-AUTO 6                   is to small (1, 4)\n",
      "PHOTO PRINTING                              is to small (2, 4)\n",
      "TOYS                                        is to small (1, 4)\n",
      "WATER HEATERS GAS                           is to small (2, 4)\n",
      "NEW PLANNAME TELECOM 8                      is to small (2, 4)\n",
      "CERTIFICATES                                is to small (2, 4)\n",
      "MP3-DISKS                                   is to small (3, 4)\n",
      "GAME CONSOLE PS2                            is to small (1, 4)\n",
      "GAME CONSOLE PS VITA                        is to small (3, 4)\n",
      "3D CAMCORDERS DIGITAL                       is to small (2, 4)\n",
      "WINDOW AIR CONDITIONERS                     is to small (2, 4)\n",
      "OTHERS COMPUTERS                            is to small (1, 4)\n",
      "OTHER APPLE DEVICES                         is to small (3, 4)\n",
      "INFRARED GAS HEATERS                        is to small (1, 4)\n",
      "DVD-RECODER WITH HDD                        is to small (3, 4)\n",
      "ACCESSORIES FOR HOODS                       is to small (3, 4)\n",
      "DIGITAL SERVICES FOR PC                     is to small (1, 4)\n",
      "SOFTWARE SERVICES FOR M.MOBILE              is to small (3, 4)\n",
      "DIGITAL SERVICES FOR M_MOBILE               is to small (2, 4)\n",
      "ACCESSORIES FOR GAMES CONSOLES DS           is to small (3, 4)\n",
      "BOOKS                                       is to small (1, 4)\n",
      "3D AUDIO SYSTEM                             is to small (1, 4)\n"
     ]
    }
   ],
   "source": [
    "categ2tfidf = dict()\n",
    "for categ in set(prod2categ.values):\n",
    "    categ_sample = text_by_product[prod2categ[text_by_product.index]==categ]\n",
    "    try:\n",
    "        categ2tfidf[categ] = TfidfVectorizer(min_df = 3, max_df = 0.95).fit(categ_sample['prep_bigram'])\n",
    "    except ValueError:\n",
    "        print(categ2name[categ], ' is to small', categ_sample.shape)"
   ]
  },
  {
   "cell_type": "code",
   "execution_count": 203,
   "metadata": {
    "collapsed": true
   },
   "outputs": [
    {
     "name": "stdout",
     "output_type": "stream",
     "text": [
      "['combo' 'keyboard' 'logitech' 'russian' 'wireless' 'батарейка' 'клава'\n",
      " 'клавиатура' 'кнопка' 'колесико' 'комплект' 'мышь' 'не' 'передатчик'\n",
      " 'планшет' 'язык']\n",
      "\n",
      "***\n",
      "с расстояния в три метра клава ну просто отказывается реагировать на мои нажатия на кнопки. сейчас пишу с расстояния в 1 метр - прием удовлетворительный!!!\n",
      "скорее всего, завтра пойду менятьь на что-то постабильней!\n",
      "***\n",
      "мышь,.  вврродее бы,. ничего\n",
      "***\n",
      "клава -  отвратительна!!!\n",
      "*******\n",
      "Комплект клавиатура+мышь Logitech Wireless Combo MK220 \n",
      "***\n",
      "очень шумная клавиатура.\n",
      "сливает по этому параметру конкуренту Genius SlimStar 8000ME НА ПОРЯДКИ, у того комплекта реально по сравнению с логитеком бесшумная клавиатура\n",
      "***\n",
      "\n",
      "***\n",
      "\n",
      "*******\n",
      "Смена языков\n",
      "***\n",
      "Языки при работе с андроидом меняются нажатием клавиш shift+пробел.\n",
      "***\n",
      "\n",
      "***\n",
      "\n",
      "*******\n",
      "\n",
      "***\n",
      "покупайте у кого денег мало,  и надоели провода.\n",
      "***\n",
      "ДЕШЕВАЯ БЕСПРОВОДНАЯ КЛАВИАТУРА.Батарейки  НАДОЛГО ХВАТАЕТ\n",
      "***\n",
      "нет\n",
      "*******\n",
      "\n",
      "***\n",
      "Купил 09.12.2016 для самсунг смарт тв дак он её вообще нехочет видеть.Комп увидел сразу ,оставил себе для компа,а так всё норм замечаний не вижу.\n",
      "***\n",
      "\n",
      "***\n",
      "\n",
      "*******\n",
      "норм\n",
      "***\n",
      "\n",
      "\tКупил недавно сей комплект для подключения к планшету Huawei mediapad 7. Планшет сразу распознал и мышь и клавиатуру. Только вот язык на клаве никак не могли поменять ни я ни продавец)) Долго мы ковырялись - говорит впервые с таким вопросом пришли(!) Короче купил я и... дома все сделал. Скачал в маркете прил. Russian keyboard, в котором поставил вы,ор раскладки для HTC Desire Z RU (т. к. для моего планшета нет) и в настройкаx планшета - настройки клавиатуры поставил галочку напротив Russian keyboard и все - пишу с нее))) Сама клавиатура сделана как-то xлипко что-ли)), по размерам - самое то. Мышь соответствующего качества)) в руке леюит нормально.\n",
      "\n",
      "***\n",
      "\n",
      "***\n",
      "\n",
      "*******\n",
      "огонь\n",
      "***\n",
      "клава - УРАГАН! вообще бомбическая тема! Намутил по халяве за бонусы. Гамаюсь в косу, сижу ВК. Без тормозов, телек тянет спокойно! Бук тоже. S6 на андрюше тоже подружился с ней. Берите - и будет вам счастье!\n",
      "***\n",
      "\n",
      "***\n",
      "\n",
      "*******\n",
      "Передачик\n",
      "***\n",
      "Короче, ребята, купил я этот набор 11,06,2016 на м.Речной вокзал и долго-долго не мог с ней совладать! А именно: ВСЁ из-за этого маленького СЛАБЕНЬКОГО передатчика!\n",
      "Спасибо, что был USB- удлинитель, с помощью которого я его (передатчик) вынес наперёд перед ТВ Samsung Smart TV, т.е на прямую видимость с комплектом. Если ставить сразу на прямую в гнездо ТВ - будут тормоза и лаги! \n",
      "Да, не ожидал такого от Logitech!\n",
      "***\n",
      "\n",
      "***\n",
      "\n",
      "*******\n",
      "\n",
      "***\n",
      "Клавиатура неудобная. Стрелки мелкие и неубодные.\n",
      "Но самая беда это мышка. Там две (!) батарейки АА и она при почти никаком использовании сжирает их буквально за пару месяцев. Кнопки выкл на мышке нет. Я за год поменял в ней батарейки 5(!) раз. Больше этот комплект не использую, не напасешься...\n",
      "***\n",
      "Работает\n",
      "***\n",
      "Клавиши, просто жрет батарейки\n",
      "*******\n",
      "Комплект клавиатура+мышь Logitech Wireless Combo MK220\n",
      "***\n",
      "Впечатление: Разочарование. Сколько не покупал продукцию  Logitech был доволен качеством до этого случая, но в этот комплект сделан из рук вон плохо. Пластик из которого сделаны клавиатура и мышь плохого качества или так задумано, но выглядит очень дешево. Кнопки нажимаются странно и непонятно. Некоторые кнопки в частности кнопка ввода (не основной, который справа снизу) крайне нечувствительна, приходиться прилагать усилие. Колесико мышки- скроллинг крутится не плавно и каждый шаг поворота колесика сильно ощущается, что не приятно. Еще замечено, что при прокрутке колесика при нажатой правой кнопки мыши оно трётся об нажатую кнопку. Не существенно но раздражает.\n",
      "Резюмируя хочу сказать если у вас будет альтернативный выбор, то лучше  Logitech Wireless Combo MK220 не брать!\n",
      "***\n",
      "\n",
      "***\n",
      "\n"
     ]
    }
   ],
   "source": [
    "sample = text_by_product.sample(1)\n",
    "tmp = vec.transform(sample['total_text_prepared']).todense()\n",
    "tmp[tmp<0.1] = 0\n",
    "print(vec.inverse_transform(tmp)[0])\n",
    "print(sample['total_text'].values[0])"
   ]
  },
  {
   "cell_type": "markdown",
   "metadata": {},
   "source": [
    "Как отрабатывает на товаре vs категория? Чуть лучше"
   ]
  },
  {
   "cell_type": "code",
   "execution_count": 243,
   "metadata": {},
   "outputs": [
    {
     "data": {
      "text/plain": [
       "0.14284264945632416"
      ]
     },
     "execution_count": 243,
     "metadata": {},
     "output_type": "execute_result"
    }
   ],
   "source": []
  },
  {
   "cell_type": "code",
   "execution_count": 305,
   "metadata": {},
   "outputs": [
    {
     "name": "stdout",
     "output_type": "stream",
     "text": [
      "4130401 HAIR CARE                                 \n",
      "['волос' 'для_завивка' 'если_использовать' 'утюжок' 'утюжок_на' 'шнур_в']\n",
      "\n",
      "***\n",
      "У меня волосы пушистые и тонкие, укладывать их трудно. А этот утюжок на удивление легко справился с беспорядком у меня на голове. Понравилось, что корпус имеет скругления, удобно, если используешь утюжок для завивки. \n",
      "***\n",
      "Удобный, быстро нагревается, можно использовать и для выпрямления, и для завивки.\n",
      "***\n",
      "Туговаты кнопки для переключения температуры\n",
      "*******\n",
      "\n",
      "***\n",
      "Хотелось себе именно качественный выпрямитель, который нормально работает и при этом не испортит мои волосы. Вьющиеся волосы не мое, поэтому пользуюсь им часто. И всегда прическа сохраняется долго. Нравится, что им нельзя сжечь волосы. Кстати, он еще и завивает, поэтому даю иногда сестре, она наоборот очень хочет вьющиеся волосы.\n",
      "***\n",
      "Отлично и надолго выпрямляет, не жжет кончики, турмалиновое покрытие, наличие 8 режимов\n",
      "***\n",
      "Не нахожу\n",
      "*******\n",
      "\n",
      "***\n",
      "Вчера опробовала этот утюжок на своих волосах. Разгладил легко, буквально с одного раза.  Сутки прошли, волосы до сих пор гладкие и блестят!\n",
      "***\n",
      "Качественное покрытие пластин, не повреждает волосы\n",
      "***\n",
      "Нагревается корпус. Но этот минус может стать плюсом, если использовать утюжок для завивки.\n",
      "*******\n",
      "\n",
      "***\n",
      "Всегда использую выпрямители такие, потому что от природы у меня овлосы волнистые, а я их вообще не люблю. Прошлая модель изрядно попортила мне кончики, поэтому решила брать на этот раз адекватное что-то. Тут я могу хоть секунд 5 продержать волосы в горячем состоянии, и они не будут ломаться или портиться, концы в порядке, это главное!! Нагрев происходит быстрый, регулировать температуру можно запросто с помощью кнопок. Я довольна, главное что волосы ВСЕГДА ровные после выпрямления этим утюжком!!\n",
      "\n",
      "***\n",
      "КАЧЕСТВЕННЫЙ! Не вредит волосам даже при длительном процессе выравнивания волос. Выглядит стильно, пользоваться им просто, не нагревается так чтоб руки обжигал!\n",
      "***\n",
      "Длина шнура в три метра, иногда не знаю, куда его деть, но думаю что многие утюжки с таким шнуром в принципе ..\n"
     ]
    }
   ],
   "source": [
    "sample = text_by_product.sample(1)\n",
    "\n",
    "categ = prod2categ[sample.index[0]]\n",
    "print(categ, categ2name[categ])\n",
    "# все тексты об этой категории\n",
    "if categ in categ2tfidf:\n",
    "    vec0 = categ2tfidf[categ]\n",
    "    #categ_sample = text_by_product[prod2categ[text_by_product.index]==categ]\n",
    "    #vec.fit(categ_sample['total_text_prepared'].apply(add_bigrams_to_text))\n",
    "    tmp = vec0.transform(sample['total_text_prepared'].apply(add_bigrams_to_text)).todense()\n",
    "    threshold = sorted(np.array(tmp)[0],reverse=True)[5]\n",
    "    tmp[tmp<threshold] = 0\n",
    "    print(vec0.inverse_transform(tmp)[0])\n",
    "    print(sample['total_text'].values[0])\n",
    "else:\n",
    "    print('too small categ')"
   ]
  },
  {
   "cell_type": "markdown",
   "metadata": {},
   "source": [
    "# Гипотеза 2: любимые комменты"
   ]
  },
  {
   "cell_type": "code",
   "execution_count": 307,
   "metadata": {},
   "outputs": [
    {
     "data": {
      "text/html": [
       "<div>\n",
       "<style>\n",
       "    .dataframe thead tr:only-child th {\n",
       "        text-align: right;\n",
       "    }\n",
       "\n",
       "    .dataframe thead th {\n",
       "        text-align: left;\n",
       "    }\n",
       "\n",
       "    .dataframe tbody tr th {\n",
       "        vertical-align: top;\n",
       "    }\n",
       "</style>\n",
       "<table border=\"1\" class=\"dataframe\">\n",
       "  <thead>\n",
       "    <tr style=\"text-align: right;\">\n",
       "      <th></th>\n",
       "      <th>LIKES_COUNT</th>\n",
       "      <th>DISLIKES_COUNT</th>\n",
       "    </tr>\n",
       "  </thead>\n",
       "  <tbody>\n",
       "    <tr>\n",
       "      <th>count</th>\n",
       "      <td>261987.000000</td>\n",
       "      <td>261987.000000</td>\n",
       "    </tr>\n",
       "    <tr>\n",
       "      <th>mean</th>\n",
       "      <td>12.077347</td>\n",
       "      <td>7.512342</td>\n",
       "    </tr>\n",
       "    <tr>\n",
       "      <th>std</th>\n",
       "      <td>43.402505</td>\n",
       "      <td>31.594347</td>\n",
       "    </tr>\n",
       "    <tr>\n",
       "      <th>min</th>\n",
       "      <td>0.000000</td>\n",
       "      <td>0.000000</td>\n",
       "    </tr>\n",
       "    <tr>\n",
       "      <th>25%</th>\n",
       "      <td>1.000000</td>\n",
       "      <td>0.000000</td>\n",
       "    </tr>\n",
       "    <tr>\n",
       "      <th>50%</th>\n",
       "      <td>5.000000</td>\n",
       "      <td>2.000000</td>\n",
       "    </tr>\n",
       "    <tr>\n",
       "      <th>75%</th>\n",
       "      <td>13.000000</td>\n",
       "      <td>7.000000</td>\n",
       "    </tr>\n",
       "    <tr>\n",
       "      <th>max</th>\n",
       "      <td>11048.000000</td>\n",
       "      <td>10207.000000</td>\n",
       "    </tr>\n",
       "  </tbody>\n",
       "</table>\n",
       "</div>"
      ],
      "text/plain": [
       "         LIKES_COUNT  DISLIKES_COUNT\n",
       "count  261987.000000   261987.000000\n",
       "mean       12.077347        7.512342\n",
       "std        43.402505       31.594347\n",
       "min         0.000000        0.000000\n",
       "25%         1.000000        0.000000\n",
       "50%         5.000000        2.000000\n",
       "75%        13.000000        7.000000\n",
       "max     11048.000000    10207.000000"
      ]
     },
     "execution_count": 307,
     "metadata": {},
     "output_type": "execute_result"
    }
   ],
   "source": [
    "d1[['LIKES_COUNT','DISLIKES_COUNT']].describe()"
   ]
  },
  {
   "cell_type": "code",
   "execution_count": 309,
   "metadata": {},
   "outputs": [
    {
     "data": {
      "text/plain": [
       "<matplotlib.axes._subplots.AxesSubplot at 0x27c4d50ff98>"
      ]
     },
     "execution_count": 309,
     "metadata": {},
     "output_type": "execute_result"
    },
    {
     "data": {
      "image/png": "[encoded data removed]",
      "text/plain": [
       "<matplotlib.figure.Figure at 0x27c4d77c7f0>"
      ]
     },
     "metadata": {},
     "output_type": "display_data"
    }
   ],
   "source": [
    "np.log10(1+d1.LIKES_COUNT).hist()"
   ]
  },
  {
   "cell_type": "code",
   "execution_count": 310,
   "metadata": {},
   "outputs": [
    {
     "data": {
      "text/plain": [
       "<matplotlib.axes._subplots.AxesSubplot at 0x27b389d4be0>"
      ]
     },
     "execution_count": 310,
     "metadata": {},
     "output_type": "execute_result"
    },
    {
     "data": {
      "image/png": "[encoded data removed]",
      "text/plain": [
       "<matplotlib.figure.Figure at 0x27b29903f28>"
      ]
     },
     "metadata": {},
     "output_type": "display_data"
    }
   ],
   "source": [
    "np.log10(1+d1.DISLIKES_COUNT).hist()"
   ]
  },
  {
   "cell_type": "code",
   "execution_count": 312,
   "metadata": {},
   "outputs": [
    {
     "data": {
      "text/plain": [
       "<matplotlib.collections.PathCollection at 0x27b2cccf8d0>"
      ]
     },
     "execution_count": 312,
     "metadata": {},
     "output_type": "execute_result"
    },
    {
     "data": {
      "image/png": "[encoded data removed]",
      "text/plain": [
       "<matplotlib.figure.Figure at 0x27b2d974278>"
      ]
     },
     "metadata": {},
     "output_type": "display_data"
    }
   ],
   "source": [
    "plt.scatter(np.log10(1+d1.LIKES_COUNT), np.log10(1+d1.DISLIKES_COUNT), s = 1)"
   ]
  },
  {
   "cell_type": "code",
   "execution_count": 314,
   "metadata": {},
   "outputs": [
    {
     "data": {
      "text/plain": [
       "<matplotlib.axes._subplots.AxesSubplot at 0x27b2c7ca320>"
      ]
     },
     "execution_count": 314,
     "metadata": {},
     "output_type": "execute_result"
    },
    {
     "data": {
      "image/png": "[encoded data removed]",
      "text/plain": [
       "<matplotlib.figure.Figure at 0x27b2c87b208>"
      ]
     },
     "metadata": {},
     "output_type": "display_data"
    }
   ],
   "source": [
    "likeness = np.log10(1+d1.LIKES_COUNT)- np.log10(1+d1.DISLIKES_COUNT)\n",
    "likeness.hist(bins=100)"
   ]
  },
  {
   "cell_type": "markdown",
   "metadata": {},
   "source": [
    "пытаемся предсказать, насколько рейтинг понравится, по "
   ]
  },
  {
   "cell_type": "code",
   "execution_count": 324,
   "metadata": {},
   "outputs": [
    {
     "name": "stdout",
     "output_type": "stream",
     "text": [
      "(270941,) (270941,)\n"
     ]
    }
   ],
   "source": [
    "y = likeness.fillna(0)\n",
    "x = d1['total_text_prepared']\n",
    "print(x.shape, y.shape)"
   ]
  },
  {
   "cell_type": "code",
   "execution_count": 320,
   "metadata": {},
   "outputs": [],
   "source": [
    "from sklearn.model_selection import cross_val_score, cross_val_predict, TimeSeriesSplit, KFold\n",
    "from sklearn.isotonic import IsotonicRegression\n",
    "from sklearn.linear_model import Ridge\n",
    "from sklearn.pipeline import make_pipeline\n",
    "from sklearn.feature_extraction.text import TfidfVectorizer\n",
    "from sklearn.metrics import r2_score"
   ]
  },
  {
   "cell_type": "code",
   "execution_count": 330,
   "metadata": {},
   "outputs": [
    {
     "name": "stdout",
     "output_type": "stream",
     "text": [
      "(270941, 54029)\n"
     ]
    }
   ],
   "source": [
    "pipe_tf = TfidfVectorizer(min_df=3).fit(x)\n",
    "pipe_x = pipe_tf.transform(x)\n",
    "print(pipe_x.shape)"
   ]
  },
  {
   "cell_type": "code",
   "execution_count": 333,
   "metadata": {},
   "outputs": [
    {
     "data": {
      "text/plain": [
       "array([ 0.0876423 ,  0.08392991])"
      ]
     },
     "execution_count": 333,
     "metadata": {},
     "output_type": "execute_result"
    }
   ],
   "source": [
    "#pipe = make_pipeline(TfidfVectorizer(min_df=3), Ridge(1))\n",
    "cross_val_score(Ridge(10), pipe_x, y, cv= KFold(2, shuffle=True, random_state=1), n_jobs=-1)"
   ]
  },
  {
   "cell_type": "code",
   "execution_count": null,
   "metadata": {
    "collapsed": true
   },
   "outputs": [],
   "source": [
    "reg = Ridge(10).fit()"
   ]
  }
 ],
 "metadata": {
  "kernelspec": {
   "display_name": "Python 3",
   "language": "python",
   "name": "python3"
  },
  "language_info": {
   "codemirror_mode": {
    "name": "ipython",
    "version": 3
   },
   "file_extension": ".py",
   "mimetype": "text/x-python",
   "name": "python",
   "nbconvert_exporter": "python",
   "pygments_lexer": "ipython3",
   "version": "3.6.1"
  }
 },
 "nbformat": 4,
 "nbformat_minor": 2
}
