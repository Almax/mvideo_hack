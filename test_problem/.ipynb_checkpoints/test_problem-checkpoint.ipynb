{
 "cells": [
  {
   "cell_type": "markdown",
   "metadata": {},
   "source": [
    "**Задача**: разработка модели предсказания оценки по тексту отзыва.\n",
    "    \n",
    "**Данные**: отзывы о товарах с сайта mvideo.ru, оценки, которые поставлены авторами отзыва, категория и брэнд товара. \n",
    "\n",
    "**Цель**: Предсказание общей оценки товара\n",
    "\n",
    "**Формат предоставления решения**: Ссылка на репозиторий на GitHub с исходным кодом программы, решающей поставленную задачу. На вход программа должна принимать данные в исходном виде (feedback), разбивать на train и test, обучать на train модель и демонстрировать ее качество на test. Репозиторий должен содержать проект для среды разработки и инструкцию по сборке и запуску. Рекомендуем использовать Jupyter Notebook, но окончательный выбор инструментария остаётся за вами."
   ]
  },
  {
   "cell_type": "markdown",
   "metadata": {},
   "source": [
    "**Предложенное решение**\n",
    "\n",
    "Предлагаемая \"программа\" предсказывает числовое значение рейтинга с помощью линейной регрессии, использующей как признаки TF-IDF счётчики слов и биграмм, содержащихся в запросе; полученное значение нормируется монотонной функцией от 1 до 5.\n",
    "\n",
    "Модель использует исключительно текст \"общих\" комментариев, хотя в датасете присутствуют и иные признаки (в т.ч. положительные и отрицательные отзывы). Не зная о планируемом применении модели, мы сделали её максимально простой, и потому переносимой. "
   ]
  },
  {
   "cell_type": "markdown",
   "metadata": {},
   "source": [
    "# Загрузка данных"
   ]
  },
  {
   "cell_type": "code",
   "execution_count": 1,
   "metadata": {
    "collapsed": true
   },
   "outputs": [],
   "source": [
    "import numpy as np\n",
    "import pandas as pd\n",
    "import matplotlib.pyplot as plt\n",
    "%matplotlib inline\n",
    "import os\n",
    "\n",
    "import pymorphy2\n",
    "import nltk"
   ]
  },
  {
   "cell_type": "code",
   "execution_count": 2,
   "metadata": {
    "collapsed": true
   },
   "outputs": [],
   "source": [
    "from sklearn.model_selection import cross_val_score, cross_val_predict\n",
    "from sklearn.isotonic import IsotonicRegression\n",
    "from sklearn.linear_model import Ridge\n",
    "from sklearn.pipeline import make_pipeline\n",
    "from sklearn.feature_extraction.text import TfidfVectorizer\n",
    "from sklearn.metrics import r2_score"
   ]
  },
  {
   "cell_type": "markdown",
   "metadata": {},
   "source": [
    "Подгружаем из интернетов пунктуацию"
   ]
  },
  {
   "cell_type": "code",
   "execution_count": 3,
   "metadata": {},
   "outputs": [
    {
     "name": "stdout",
     "output_type": "stream",
     "text": [
      "[nltk_data] Downloading package punkt to\n",
      "[nltk_data]     C:\\Users\\David\\AppData\\Roaming\\nltk_data...\n",
      "[nltk_data]   Package punkt is already up-to-date!\n"
     ]
    },
    {
     "data": {
      "text/plain": [
       "True"
      ]
     },
     "execution_count": 3,
     "metadata": {},
     "output_type": "execute_result"
    }
   ],
   "source": [
    "nltk.download('punkt')"
   ]
  },
  {
   "cell_type": "markdown",
   "metadata": {},
   "source": [
    "Загружаем файл с данными"
   ]
  },
  {
   "cell_type": "code",
   "execution_count": 4,
   "metadata": {},
   "outputs": [
    {
     "data": {
      "text/plain": [
       "(15587, 11)"
      ]
     },
     "execution_count": 4,
     "metadata": {},
     "output_type": "execute_result"
    }
   ],
   "source": [
    "data = pd.read_csv('feedback.csv/X_train.csv')\n",
    "data.shape"
   ]
  },
  {
   "cell_type": "code",
   "execution_count": 5,
   "metadata": {},
   "outputs": [
    {
     "data": {
      "text/plain": [
       "sku                   int64\n",
       "categoryLevel1Id      int64\n",
       "categoryLevel2Id      int64\n",
       "brandId               int64\n",
       "property             object\n",
       "userName             object\n",
       "reting              float64\n",
       "date                 object\n",
       "comment              object\n",
       "commentNegative      object\n",
       "commentPositive      object\n",
       "dtype: object"
      ]
     },
     "execution_count": 5,
     "metadata": {},
     "output_type": "execute_result"
    }
   ],
   "source": [
    "data.dtypes"
   ]
  },
  {
   "cell_type": "code",
   "execution_count": 6,
   "metadata": {},
   "outputs": [
    {
     "data": {
      "text/plain": [
       "count    15587.000000\n",
       "mean         4.118496\n",
       "std          1.316966\n",
       "min          1.000000\n",
       "25%          4.000000\n",
       "50%          5.000000\n",
       "75%          5.000000\n",
       "max          5.000000\n",
       "Name: reting, dtype: float64"
      ]
     },
     "execution_count": 6,
     "metadata": {},
     "output_type": "execute_result"
    }
   ],
   "source": [
    "data.reting.describe()"
   ]
  },
  {
   "cell_type": "markdown",
   "metadata": {},
   "source": [
    "Почти все оценки - пятёрки. Для MVIDEO это, конечно, хорошо, но для системы рейтингования, наверное, не очень. \n",
    "\n",
    "Посколькую рейтингов разных много, и они упорядочены, проще всего предсказывать их регрессией. "
   ]
  },
  {
   "cell_type": "code",
   "execution_count": 7,
   "metadata": {},
   "outputs": [
    {
     "data": {
      "text/plain": [
       "1.0    1468\n",
       "1.3       6\n",
       "1.7       1\n",
       "2.0     854\n",
       "2.3      14\n",
       "2.7      15\n",
       "3.0    1245\n",
       "3.3      16\n",
       "3.7      16\n",
       "4.0    2609\n",
       "4.3      54\n",
       "4.7      78\n",
       "5.0    9211\n",
       "Name: reting, dtype: int64"
      ]
     },
     "execution_count": 7,
     "metadata": {},
     "output_type": "execute_result"
    }
   ],
   "source": [
    "data.reting.value_counts().sort_index()"
   ]
  },
  {
   "cell_type": "markdown",
   "metadata": {},
   "source": [
    "Разбираемся с временным периодом"
   ]
  },
  {
   "cell_type": "code",
   "execution_count": 8,
   "metadata": {
    "collapsed": true
   },
   "outputs": [],
   "source": [
    "data.date = pd.to_datetime(data.date)"
   ]
  },
  {
   "cell_type": "code",
   "execution_count": 9,
   "metadata": {},
   "outputs": [
    {
     "data": {
      "image/png": "[encoded data removed]",
      "text/plain": [
       "<matplotlib.figure.Figure at 0x19e8a0130f0>"
      ]
     },
     "metadata": {},
     "output_type": "display_data"
    }
   ],
   "source": [
    "data.date.hist(bins=30);"
   ]
  },
  {
   "cell_type": "code",
   "execution_count": 10,
   "metadata": {},
   "outputs": [
    {
     "name": "stdout",
     "output_type": "stream",
     "text": [
      "0.855520626163\n"
     ]
    }
   ],
   "source": [
    "print((data.date<pd.Timestamp('2016-01-01')).mean())"
   ]
  },
  {
   "cell_type": "markdown",
   "metadata": {},
   "source": [
    "В качестве теста можно взять 2016-2017 годы, это будет честно."
   ]
  },
  {
   "cell_type": "code",
   "execution_count": 11,
   "metadata": {
    "collapsed": true
   },
   "outputs": [],
   "source": [
    "data.sort_values('date', inplace=True)"
   ]
  },
  {
   "cell_type": "markdown",
   "metadata": {},
   "source": [
    "Из года в год средняя оценка колебалась, но не то чтобы значительно"
   ]
  },
  {
   "cell_type": "code",
   "execution_count": 12,
   "metadata": {},
   "outputs": [
    {
     "data": {
      "image/png": "[encoded data removed]",
      "text/plain": [
       "<matplotlib.figure.Figure at 0x19e8a19b908>"
      ]
     },
     "metadata": {},
     "output_type": "display_data"
    }
   ],
   "source": [
    "data.reting.groupby(data.date.dt.round('180d')).mean().plot();"
   ]
  },
  {
   "cell_type": "markdown",
   "metadata": {},
   "source": [
    "Разделяем выборку на тестовую и тренировочную"
   ]
  },
  {
   "cell_type": "code",
   "execution_count": 13,
   "metadata": {},
   "outputs": [
    {
     "name": "stdout",
     "output_type": "stream",
     "text": [
      "train:13335, test:2252 obs\n"
     ]
    }
   ],
   "source": [
    "train_index = data[data.date<pd.Timestamp('2016-01-01')].index\n",
    "test_index = data[data.date>=pd.Timestamp('2016-01-01')].index\n",
    "print('train:{}, test:{} obs'.format(train_index.shape[0], test_index.shape[0]))"
   ]
  },
  {
   "cell_type": "markdown",
   "metadata": {},
   "source": [
    "# Предобработка"
   ]
  },
  {
   "cell_type": "markdown",
   "metadata": {},
   "source": [
    "Заменяем смайлики и прочие средства выразительности на служебные слова"
   ]
  },
  {
   "cell_type": "code",
   "execution_count": 14,
   "metadata": {
    "collapsed": true
   },
   "outputs": [],
   "source": [
    "import re\n",
    "\n",
    "reg_smiles = {\n",
    "    re.compile(r\"[\\)]{2,}\"): ' _BRACKETS_POSITIVE ',\n",
    "    re.compile(r\"[\\(]{2,}\"): ' _BRACKETS_NEGATIVE ',\n",
    "    re.compile(';-?\\)'): ' _SMILE_GRIN ',\n",
    "    re.compile(r\":[-]?\\)\"): ' _SMILE_POSITIVE ',\n",
    "    re.compile(r\":[-]?\\(\"): ' _SMILE_NEGATIVE ',\n",
    "    re.compile(r\"!!!\"): ' _MANY_EXCLAMATIONS ',\n",
    "    re.compile(r\"[.]{3,}\"): ' _PERIOD ',\n",
    "}\n",
    "\n",
    "def replace_smiles(text):\n",
    "    for reg, repl in reg_smiles.items():\n",
    "        text = re.sub(reg, repl, text)\n",
    "    return text"
   ]
  },
  {
   "cell_type": "markdown",
   "metadata": {},
   "source": [
    "Разбиваем тексты на слова"
   ]
  },
  {
   "cell_type": "code",
   "execution_count": 15,
   "metadata": {},
   "outputs": [
    {
     "name": "stdout",
     "output_type": "stream",
     "text": [
      "['2,5', 'года', 'работала', 'и', 'все', '...', 'устала', '!', 'Лампочка', 'горит', 'и', 'больше', 'ничего', '!']\n"
     ]
    }
   ],
   "source": [
    "def tokenize(text):\n",
    "    return [word for sent in nltk.sent_tokenize(text) for word in nltk.word_tokenize(sent)]\n",
    "print(tokenize(data.comment[0]))"
   ]
  },
  {
   "cell_type": "markdown",
   "metadata": {},
   "source": [
    "Приводим слова к нормальной форме"
   ]
  },
  {
   "cell_type": "code",
   "execution_count": 16,
   "metadata": {
    "collapsed": true
   },
   "outputs": [],
   "source": [
    "morph = pymorphy2.MorphAnalyzer()"
   ]
  },
  {
   "cell_type": "code",
   "execution_count": null,
   "metadata": {},
   "outputs": [
    {
     "name": "stdout",
     "output_type": "stream",
     "text": [
      "['2,5', 'год', 'работать', 'и', 'весь', '...', 'устать', '!', 'лампочка', 'гореть', 'и', 'большой', 'ничто', '!']\n"
     ]
    }
   ],
   "source": [
    "def lemmatize(words):\n",
    "    return [morph.parse(word)[0].normal_form for word in words]\n",
    "print(lemmatize(tokenize(data.comment[0])))"
   ]
  },
  {
   "cell_type": "markdown",
   "metadata": {},
   "source": [
    "Теперь очень долго вычисляем всё это"
   ]
  },
  {
   "cell_type": "code",
   "execution_count": null,
   "metadata": {
    "collapsed": true
   },
   "outputs": [],
   "source": [
    "lemma_bags = data.comment.apply(replace_smiles).apply(tokenize).apply(lemmatize)"
   ]
  },
  {
   "cell_type": "markdown",
   "metadata": {},
   "source": [
    "# Регрессия"
   ]
  },
  {
   "cell_type": "markdown",
   "metadata": {},
   "source": [
    "Оказывается, встроенные инструменты позволяют куда более точную оценку тональности"
   ]
  },
  {
   "cell_type": "code",
   "execution_count": null,
   "metadata": {
    "collapsed": true
   },
   "outputs": [],
   "source": [
    "new_texts = lemma_bags.apply(lambda x:' '.join(x))"
   ]
  },
  {
   "cell_type": "code",
   "execution_count": null,
   "metadata": {},
   "outputs": [],
   "source": [
    "def get_bigrams(lemmas):\n",
    "    return [w1+'_'+w2 for w1, w2 in zip(lemmas[:-1], lemmas[1:])]\n",
    "def add_bigrams(lemmas):\n",
    "    return lemmas + get_bigrams(lemmas)\n",
    "print(add_bigrams('мама мыла раму'.split()))"
   ]
  },
  {
   "cell_type": "code",
   "execution_count": null,
   "metadata": {
    "collapsed": true
   },
   "outputs": [],
   "source": [
    "new_bigrams = lemma_bags.apply(add_bigrams).apply(lambda x:' '.join(x))"
   ]
  },
  {
   "cell_type": "code",
   "execution_count": null,
   "metadata": {},
   "outputs": [],
   "source": [
    "vec = TfidfVectorizer(min_df=5, max_df = 0.5)\n",
    "vec.fit(new_texts)\n",
    "print(len(vec.vocabulary_))"
   ]
  },
  {
   "cell_type": "markdown",
   "metadata": {},
   "source": [
    "Первый же заход даёт точность 38% (в эр-квадратах)"
   ]
  },
  {
   "cell_type": "code",
   "execution_count": null,
   "metadata": {},
   "outputs": [],
   "source": [
    "pipe = make_pipeline(vec, Ridge(1))\n",
    "cross_val_score(pipe, new_texts, data.reting)"
   ]
  },
  {
   "cell_type": "markdown",
   "metadata": {},
   "source": [
    "Биграммы доводят уже до 44%"
   ]
  },
  {
   "cell_type": "code",
   "execution_count": null,
   "metadata": {},
   "outputs": [],
   "source": [
    "cross_val_score(pipe, new_bigrams[train_index], data.reting[train_index])"
   ]
  },
  {
   "cell_type": "code",
   "execution_count": null,
   "metadata": {
    "collapsed": true
   },
   "outputs": [],
   "source": [
    "pipe.fit(new_bigrams[train_index], data.reting[train_index]);"
   ]
  },
  {
   "cell_type": "code",
   "execution_count": null,
   "metadata": {},
   "outputs": [],
   "source": [
    "inv_idx = {value:key for key, value in pipe.steps[0][1].vocabulary_.items()}\n",
    "c = pipe.steps[1][1].coef_\n",
    "best = [inv_idx[i] for i in np.argsort(c)[-10:]]\n",
    "worst = [inv_idx[i] for i in np.argsort(c)[:10]]\n",
    "print(', '.join(best))\n",
    "print(', '.join(worst))"
   ]
  },
  {
   "cell_type": "code",
   "execution_count": null,
   "metadata": {
    "collapsed": true
   },
   "outputs": [],
   "source": [
    "raw_preddiction = cross_val_predict(pipe, new_bigrams[train_index], data.reting[train_index])"
   ]
  },
  {
   "cell_type": "markdown",
   "metadata": {},
   "source": [
    "Картинка показывает, что прогноз модели может быть ещё здорово улучшен за счёт примерения нелинейных преобразований "
   ]
  },
  {
   "cell_type": "code",
   "execution_count": null,
   "metadata": {},
   "outputs": [],
   "source": [
    "plt.scatter(raw_preddiction, data.reting[train_index]+np.random.normal(size = len(train_index), scale = 0.1), lw=0, s=1);\n",
    "plt.plot([1, 5], [1, 5], color = 'red')\n",
    "\n",
    "iso = IsotonicRegression(y_min = -10, y_max=10, out_of_bounds='clip').fit(raw_preddiction, data.reting[train_index])\n",
    "plt.plot(pd.Series(raw_preddiction).sort_values(), iso.predict(pd.Series(raw_preddiction).sort_values()), color = 'red');"
   ]
  },
  {
   "cell_type": "markdown",
   "metadata": {},
   "source": [
    "Если нормально учесть нелинейность, модель ещё точнее"
   ]
  },
  {
   "cell_type": "code",
   "execution_count": null,
   "metadata": {},
   "outputs": [],
   "source": [
    "print(r2_score(data.reting[train_index], iso.predict(raw_preddiction)))"
   ]
  },
  {
   "cell_type": "markdown",
   "metadata": {
    "collapsed": true
   },
   "source": [
    "# Проверка на тестовых данных "
   ]
  },
  {
   "cell_type": "code",
   "execution_count": null,
   "metadata": {
    "collapsed": true
   },
   "outputs": [],
   "source": [
    "test_predict = iso.predict(pipe.predict(new_bigrams[test_index]))"
   ]
  },
  {
   "cell_type": "markdown",
   "metadata": {},
   "source": [
    "На тестовых данных из будущего модель отрабатывает сильно хуже, чем на кросс-валидации - видимо, данные 2010-2015 года не совсем релевантны для прогнозов в 2016-2017 году.\n"
   ]
  },
  {
   "cell_type": "code",
   "execution_count": null,
   "metadata": {},
   "outputs": [],
   "source": [
    "print(r2_score(data.reting[test_index], test_predict))"
   ]
  },
  {
   "cell_type": "markdown",
   "metadata": {},
   "source": [
    "Но в реальности мы бы могли дообучать модель хоть каждый день, поэтому данная проблема не так страшна. "
   ]
  }
 ],
 "metadata": {
  "anaconda-cloud": {},
  "kernelspec": {
   "display_name": "Python [Root]",
   "language": "python",
   "name": "Python [Root]"
  },
  "language_info": {
   "codemirror_mode": {
    "name": "ipython",
    "version": 3
   },
   "file_extension": ".py",
   "mimetype": "text/x-python",
   "name": "python",
   "nbconvert_exporter": "python",
   "pygments_lexer": "ipython3",
   "version": "3.5.2"
  }
 },
 "nbformat": 4,
 "nbformat_minor": 2
}
